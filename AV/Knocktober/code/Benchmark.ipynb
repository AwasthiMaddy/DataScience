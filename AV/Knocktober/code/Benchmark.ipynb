{
 "cells": [
  {
   "cell_type": "code",
   "execution_count": 1,
   "metadata": {
    "collapsed": true
   },
   "outputs": [],
   "source": [
    "import time\n",
    "import os\n",
    "import pandas as pd\n",
    "import numpy as np\n",
    "import xgboost as xgb\n",
    "\n",
    "from datetime import datetime"
   ]
  },
  {
   "cell_type": "markdown",
   "metadata": {},
   "source": [
    "** Read Data **"
   ]
  },
  {
   "cell_type": "code",
   "execution_count": 2,
   "metadata": {
    "collapsed": false
   },
   "outputs": [
    {
     "name": "stdout",
     "output_type": "stream",
     "text": [
      "train (75278, 8)\n",
      "test (35249, 8)\n",
      "health_camp_detail (65, 6)\n",
      "patient_profile (37633, 11)\n",
      "first_health_camp_attended (6218, 5)\n",
      "second_health_camp_attended (7819, 3)\n",
      "third_health_camp_attended (6515, 4)\n"
     ]
    }
   ],
   "source": [
    "train = pd.read_csv('D:\\\\Data Science\\\\AV\\\\Knocktober\\\\data\\\\Train\\\\Train.csv')\n",
    "test = pd.read_csv('D:\\\\Data Science\\\\AV\\\\Knocktober\\\\data\\\\Test_D7W1juQ.csv')\n",
    "sample_submission = pd.read_csv('D:\\\\Data Science\\\\AV\\\\Knocktober\\\\data\\\\sample_submission_cvwryvM.csv')\n",
    "health_camp_detail = pd.read_csv('D:\\\\Data Science\\\\AV\\\\Knocktober\\\\data\\\\Train\\\\Health_Camp_Detail.csv')\n",
    "patient_profile = pd.read_csv('D:\\\\Data Science\\\\AV\\\\Knocktober\\\\data\\\\Train\\\\Patient_Profile.csv')\n",
    "first_health_camp_attended = pd.read_csv('D:\\\\Data Science\\\\AV\\\\Knocktober\\\\data\\\\Train\\\\First_Health_Camp_Attended.csv')\n",
    "second_health_camp_attended = pd.read_csv('D:\\\\Data Science\\\\AV\\\\Knocktober\\\\data\\\\Train\\\\Second_Health_Camp_Attended.csv')\n",
    "third_health_camp_attended = pd.read_csv('D:\\\\Data Science\\\\AV\\\\Knocktober\\\\data\\\\Train\\\\Third_Health_Camp_Attended.csv')\n",
    "print \"train\", train.shape\n",
    "print \"test\", test.shape\n",
    "print \"health_camp_detail\", health_camp_detail.shape\n",
    "print \"patient_profile\", patient_profile.shape\n",
    "print \"first_health_camp_attended\", first_health_camp_attended.shape\n",
    "print \"second_health_camp_attended\", second_health_camp_attended.shape\n",
    "print \"third_health_camp_attended\", third_health_camp_attended.shape"
   ]
  },
  {
   "cell_type": "markdown",
   "metadata": {},
   "source": [
    "** Data Glimpse **"
   ]
  },
  {
   "cell_type": "code",
   "execution_count": 3,
   "metadata": {
    "collapsed": false
   },
   "outputs": [
    {
     "name": "stdout",
     "output_type": "stream",
     "text": [
      "   Patient_ID  Health_Camp_ID Registration_Date  Var1  Var2  Var3  Var4  Var5\n",
      "0      489652            6578         10-Sep-05     4     0     0     0     2\n",
      "1      507246            6578         18-Aug-05    45     5     0     0     7\n",
      "   Patient_ID  Health_Camp_ID Registration_Date  Var1  Var2  Var3  Var4  Var5\n",
      "0      505701            6548         21-May-06     1     0     0     0     2\n",
      "1      500633            6584         02-Jun-06     0     0     0     0     0\n"
     ]
    }
   ],
   "source": [
    "print train.head(2)\n",
    "print test.head(2)"
   ]
  },
  {
   "cell_type": "code",
   "execution_count": 4,
   "metadata": {
    "collapsed": false
   },
   "outputs": [
    {
     "name": "stdout",
     "output_type": "stream",
     "text": [
      "   Health_Camp_ID Camp_Start_Date Camp_End_Date Category1 Category2  Category3\n",
      "0            6560       16-Aug-03     20-Aug-03     First         B          2\n",
      "1            6530       16-Aug-03     28-Oct-03     First         C          2\n",
      "\n",
      "\n",
      "   Patient_ID  Online_Follower  LinkedIn_Shared  Twitter_Shared  \\\n",
      "0      516956                0                0               0   \n",
      "1      507733                0                0               0   \n",
      "\n",
      "   Facebook_Shared Income Education_Score Age First_Interaction City_Type  \\\n",
      "0                0      1              90  39         18-Jun-03       NaN   \n",
      "1                0      1            None  40         20-Jul-03         H   \n",
      "\n",
      "   Employer_Category  \n",
      "0  Software Industry  \n",
      "1  Software Industry  \n"
     ]
    }
   ],
   "source": [
    "print health_camp_detail.head(2)\n",
    "print \"\\n\"\n",
    "print patient_profile.head(2)"
   ]
  },
  {
   "cell_type": "code",
   "execution_count": 5,
   "metadata": {
    "collapsed": false
   },
   "outputs": [
    {
     "data": {
      "text/html": [
       "<div>\n",
       "<table border=\"1\" class=\"dataframe\">\n",
       "  <thead>\n",
       "    <tr style=\"text-align: right;\">\n",
       "      <th></th>\n",
       "      <th>Patient_ID</th>\n",
       "      <th>Health_Camp_ID</th>\n",
       "      <th>Donation</th>\n",
       "      <th>Health_Score</th>\n",
       "    </tr>\n",
       "  </thead>\n",
       "  <tbody>\n",
       "    <tr>\n",
       "      <th>0</th>\n",
       "      <td>506181</td>\n",
       "      <td>6560</td>\n",
       "      <td>40</td>\n",
       "      <td>0.439024</td>\n",
       "    </tr>\n",
       "    <tr>\n",
       "      <th>1</th>\n",
       "      <td>494977</td>\n",
       "      <td>6560</td>\n",
       "      <td>20</td>\n",
       "      <td>0.097561</td>\n",
       "    </tr>\n",
       "  </tbody>\n",
       "</table>\n",
       "</div>"
      ],
      "text/plain": [
       "   Patient_ID  Health_Camp_ID  Donation  Health_Score\n",
       "0      506181            6560        40      0.439024\n",
       "1      494977            6560        20      0.097561"
      ]
     },
     "execution_count": 5,
     "metadata": {},
     "output_type": "execute_result"
    }
   ],
   "source": [
    "first_health_camp_attended.head(2)\n",
    "first_health_camp_attended = first_health_camp_attended[[0,1,2,3]]\n",
    "first_health_camp_attended.head(2)"
   ]
  },
  {
   "cell_type": "code",
   "execution_count": 6,
   "metadata": {
    "collapsed": false
   },
   "outputs": [
    {
     "name": "stdout",
     "output_type": "stream",
     "text": [
      "   Patient_ID  Health_Camp_ID  Health Score\n",
      "0      526631            6536      0.875136\n",
      "1      509122            6536      0.755700\n",
      "\n",
      "\n",
      "   Patient_ID  Health_Camp_ID  Number_of_stall_visited  \\\n",
      "0      517875            6527                        3   \n",
      "1      504692            6578                        1   \n",
      "\n",
      "   Last_Stall_Visited_Number  \n",
      "0                          1  \n",
      "1                          1  \n"
     ]
    }
   ],
   "source": [
    "print second_health_camp_attended.head(2)\n",
    "print \"\\n\"\n",
    "print third_health_camp_attended.head(2)"
   ]
  },
  {
   "cell_type": "markdown",
   "metadata": {},
   "source": [
    "** Creating combined_df (train+test) **"
   ]
  },
  {
   "cell_type": "code",
   "execution_count": 7,
   "metadata": {
    "collapsed": true
   },
   "outputs": [],
   "source": [
    "def create_combined_df(train, test):\n",
    "    '''\n",
    "    Creates combined dataframe from train & test dataframes.\n",
    "    Basically concats train & test dataframes.\n",
    "    \n",
    "    Parameters\n",
    "    -----------\n",
    "    train : a pandas DataFrame.\n",
    "    test : a pandas DataFrame.\n",
    "    \n",
    "    Returns\n",
    "    --------\n",
    "    combined_df : concated pandas dataframe.\n",
    "    '''\n",
    "    train['train_or_test'] = 'train'\n",
    "    test['train_or_test'] = 'test'\n",
    "    combined_df = pd.concat([train,test])\n",
    "    return combined_df"
   ]
  },
  {
   "cell_type": "code",
   "execution_count": 8,
   "metadata": {
    "collapsed": false
   },
   "outputs": [
    {
     "name": "stdout",
     "output_type": "stream",
     "text": [
      "(110527, 9)\n"
     ]
    },
    {
     "data": {
      "text/html": [
       "<div>\n",
       "<table border=\"1\" class=\"dataframe\">\n",
       "  <thead>\n",
       "    <tr style=\"text-align: right;\">\n",
       "      <th></th>\n",
       "      <th>Patient_ID</th>\n",
       "      <th>Health_Camp_ID</th>\n",
       "      <th>Registration_Date</th>\n",
       "      <th>Var1</th>\n",
       "      <th>Var2</th>\n",
       "      <th>Var3</th>\n",
       "      <th>Var4</th>\n",
       "      <th>Var5</th>\n",
       "      <th>train_or_test</th>\n",
       "    </tr>\n",
       "  </thead>\n",
       "  <tbody>\n",
       "    <tr>\n",
       "      <th>0</th>\n",
       "      <td>489652</td>\n",
       "      <td>6578</td>\n",
       "      <td>10-Sep-05</td>\n",
       "      <td>4</td>\n",
       "      <td>0</td>\n",
       "      <td>0</td>\n",
       "      <td>0</td>\n",
       "      <td>2</td>\n",
       "      <td>train</td>\n",
       "    </tr>\n",
       "    <tr>\n",
       "      <th>1</th>\n",
       "      <td>507246</td>\n",
       "      <td>6578</td>\n",
       "      <td>18-Aug-05</td>\n",
       "      <td>45</td>\n",
       "      <td>5</td>\n",
       "      <td>0</td>\n",
       "      <td>0</td>\n",
       "      <td>7</td>\n",
       "      <td>train</td>\n",
       "    </tr>\n",
       "  </tbody>\n",
       "</table>\n",
       "</div>"
      ],
      "text/plain": [
       "   Patient_ID  Health_Camp_ID Registration_Date  Var1  Var2  Var3  Var4  Var5  \\\n",
       "0      489652            6578         10-Sep-05     4     0     0     0     2   \n",
       "1      507246            6578         18-Aug-05    45     5     0     0     7   \n",
       "\n",
       "  train_or_test  \n",
       "0         train  \n",
       "1         train  "
      ]
     },
     "execution_count": 8,
     "metadata": {},
     "output_type": "execute_result"
    }
   ],
   "source": [
    "# Combining Train & Test\n",
    "combined_df = create_combined_df(train, test)\n",
    "print combined_df.shape\n",
    "combined_df.head(2)"
   ]
  },
  {
   "cell_type": "markdown",
   "metadata": {},
   "source": [
    "** Generating the outcome **"
   ]
  },
  {
   "cell_type": "code",
   "execution_count": 9,
   "metadata": {
    "collapsed": false,
    "scrolled": true
   },
   "outputs": [
    {
     "name": "stdout",
     "output_type": "stream",
     "text": [
      "(20534, 3)\n"
     ]
    }
   ],
   "source": [
    "col_names = [['Patient_ID','Health_Camp_ID','Outcome']]\n",
    "first_health_camp_attended = first_health_camp_attended[['Patient_ID','Health_Camp_ID','Health_Score']]\n",
    "first_health_camp_attended.columns = col_names\n",
    "second_health_camp_attended = second_health_camp_attended[['Patient_ID','Health_Camp_ID','Health Score']]\n",
    "second_health_camp_attended.columns = col_names\n",
    "third_health_camp_attended = third_health_camp_attended[['Patient_ID','Health_Camp_ID','Number_of_stall_visited']]\n",
    "third_health_camp_attended = third_health_camp_attended[third_health_camp_attended['Number_of_stall_visited']>0]\n",
    "third_health_camp_attended.columns = col_names\n",
    "all_camps = pd.concat([first_health_camp_attended, second_health_camp_attended, third_health_camp_attended])\n",
    "all_camps['Outcome'] = 1\n",
    "print all_camps.shape"
   ]
  },
  {
   "cell_type": "code",
   "execution_count": 10,
   "metadata": {
    "collapsed": false
   },
   "outputs": [
    {
     "data": {
      "text/html": [
       "<div>\n",
       "<table border=\"1\" class=\"dataframe\">\n",
       "  <thead>\n",
       "    <tr style=\"text-align: right;\">\n",
       "      <th></th>\n",
       "      <th>Patient_ID</th>\n",
       "      <th>Health_Camp_ID</th>\n",
       "      <th>Registration_Date</th>\n",
       "      <th>Var1</th>\n",
       "      <th>Var2</th>\n",
       "      <th>Var3</th>\n",
       "      <th>Var4</th>\n",
       "      <th>Var5</th>\n",
       "      <th>train_or_test</th>\n",
       "      <th>Outcome</th>\n",
       "    </tr>\n",
       "  </thead>\n",
       "  <tbody>\n",
       "    <tr>\n",
       "      <th>0</th>\n",
       "      <td>489652</td>\n",
       "      <td>6578</td>\n",
       "      <td>10-Sep-05</td>\n",
       "      <td>4</td>\n",
       "      <td>0</td>\n",
       "      <td>0</td>\n",
       "      <td>0</td>\n",
       "      <td>2</td>\n",
       "      <td>train</td>\n",
       "      <td>1</td>\n",
       "    </tr>\n",
       "    <tr>\n",
       "      <th>1</th>\n",
       "      <td>507246</td>\n",
       "      <td>6578</td>\n",
       "      <td>18-Aug-05</td>\n",
       "      <td>45</td>\n",
       "      <td>5</td>\n",
       "      <td>0</td>\n",
       "      <td>0</td>\n",
       "      <td>7</td>\n",
       "      <td>train</td>\n",
       "      <td>0</td>\n",
       "    </tr>\n",
       "  </tbody>\n",
       "</table>\n",
       "</div>"
      ],
      "text/plain": [
       "   Patient_ID  Health_Camp_ID Registration_Date  Var1  Var2  Var3  Var4  Var5  \\\n",
       "0      489652            6578         10-Sep-05     4     0     0     0     2   \n",
       "1      507246            6578         18-Aug-05    45     5     0     0     7   \n",
       "\n",
       "  train_or_test  Outcome  \n",
       "0         train        1  \n",
       "1         train        0  "
      ]
     },
     "execution_count": 10,
     "metadata": {},
     "output_type": "execute_result"
    }
   ],
   "source": [
    "combined_df = combined_df.merge(all_camps, on=['Patient_ID','Health_Camp_ID'], how='left')\n",
    "combined_df['Outcome'] = combined_df['Outcome'].fillna(0).astype('int')\n",
    "combined_df.head(2)"
   ]
  },
  {
   "cell_type": "code",
   "execution_count": 11,
   "metadata": {
    "collapsed": false
   },
   "outputs": [
    {
     "name": "stdout",
     "output_type": "stream",
     "text": [
      "0    54744\n",
      "1    20534\n",
      "Name: Outcome, dtype: int64\n",
      "train    75278\n",
      "test     35249\n",
      "Name: train_or_test, dtype: int64\n"
     ]
    }
   ],
   "source": [
    "print combined_df[combined_df['train_or_test']=='train'].Outcome.value_counts()\n",
    "print combined_df.train_or_test.value_counts()"
   ]
  },
  {
   "cell_type": "markdown",
   "metadata": {},
   "source": [
    "i.e. ~27% of people who register for the camp, turns up!!"
   ]
  },
  {
   "cell_type": "code",
   "execution_count": 12,
   "metadata": {
    "collapsed": false
   },
   "outputs": [
    {
     "name": "stdout",
     "output_type": "stream",
     "text": [
      "['train']\n",
      "['train']\n"
     ]
    }
   ],
   "source": [
    "# Just checking\n",
    "# Registration_Date is missing only in train\n",
    "print combined_df[combined_df.Registration_Date.isnull()]['train_or_test'].unique()\n",
    "print combined_df[combined_df.isnull().any(axis=1)]['train_or_test'].unique()"
   ]
  },
  {
   "cell_type": "markdown",
   "metadata": {},
   "source": [
    "** Merging with health_camp_detail data **"
   ]
  },
  {
   "cell_type": "code",
   "execution_count": 13,
   "metadata": {
    "collapsed": false
   },
   "outputs": [
    {
     "name": "stdout",
     "output_type": "stream",
     "text": [
      "(110527, 15)\n"
     ]
    },
    {
     "data": {
      "text/html": [
       "<div>\n",
       "<table border=\"1\" class=\"dataframe\">\n",
       "  <thead>\n",
       "    <tr style=\"text-align: right;\">\n",
       "      <th></th>\n",
       "      <th>Patient_ID</th>\n",
       "      <th>Health_Camp_ID</th>\n",
       "      <th>Registration_Date</th>\n",
       "      <th>Var1</th>\n",
       "      <th>Var2</th>\n",
       "      <th>Var3</th>\n",
       "      <th>Var4</th>\n",
       "      <th>Var5</th>\n",
       "      <th>train_or_test</th>\n",
       "      <th>Outcome</th>\n",
       "      <th>Camp_Start_Date</th>\n",
       "      <th>Camp_End_Date</th>\n",
       "      <th>Category1</th>\n",
       "      <th>Category2</th>\n",
       "      <th>Category3</th>\n",
       "    </tr>\n",
       "  </thead>\n",
       "  <tbody>\n",
       "    <tr>\n",
       "      <th>0</th>\n",
       "      <td>489652</td>\n",
       "      <td>6578</td>\n",
       "      <td>10-Sep-05</td>\n",
       "      <td>4</td>\n",
       "      <td>0</td>\n",
       "      <td>0</td>\n",
       "      <td>0</td>\n",
       "      <td>2</td>\n",
       "      <td>train</td>\n",
       "      <td>1</td>\n",
       "      <td>16-Aug-05</td>\n",
       "      <td>14-Oct-05</td>\n",
       "      <td>Third</td>\n",
       "      <td>G</td>\n",
       "      <td>2</td>\n",
       "    </tr>\n",
       "    <tr>\n",
       "      <th>1</th>\n",
       "      <td>507246</td>\n",
       "      <td>6578</td>\n",
       "      <td>18-Aug-05</td>\n",
       "      <td>45</td>\n",
       "      <td>5</td>\n",
       "      <td>0</td>\n",
       "      <td>0</td>\n",
       "      <td>7</td>\n",
       "      <td>train</td>\n",
       "      <td>0</td>\n",
       "      <td>16-Aug-05</td>\n",
       "      <td>14-Oct-05</td>\n",
       "      <td>Third</td>\n",
       "      <td>G</td>\n",
       "      <td>2</td>\n",
       "    </tr>\n",
       "  </tbody>\n",
       "</table>\n",
       "</div>"
      ],
      "text/plain": [
       "   Patient_ID  Health_Camp_ID Registration_Date  Var1  Var2  Var3  Var4  Var5  \\\n",
       "0      489652            6578         10-Sep-05     4     0     0     0     2   \n",
       "1      507246            6578         18-Aug-05    45     5     0     0     7   \n",
       "\n",
       "  train_or_test  Outcome Camp_Start_Date Camp_End_Date Category1 Category2  \\\n",
       "0         train        1       16-Aug-05     14-Oct-05     Third         G   \n",
       "1         train        0       16-Aug-05     14-Oct-05     Third         G   \n",
       "\n",
       "   Category3  \n",
       "0          2  \n",
       "1          2  "
      ]
     },
     "execution_count": 13,
     "metadata": {},
     "output_type": "execute_result"
    }
   ],
   "source": [
    "combined_df = combined_df.merge(health_camp_detail, on=['Health_Camp_ID'], how='left')\n",
    "print combined_df.shape\n",
    "combined_df.head(2)"
   ]
  },
  {
   "cell_type": "markdown",
   "metadata": {},
   "source": [
    "** Merging with patient_profile data **"
   ]
  },
  {
   "cell_type": "code",
   "execution_count": 14,
   "metadata": {
    "collapsed": false
   },
   "outputs": [
    {
     "name": "stdout",
     "output_type": "stream",
     "text": [
      "(110527, 25)\n"
     ]
    },
    {
     "data": {
      "text/html": [
       "<div>\n",
       "<table border=\"1\" class=\"dataframe\">\n",
       "  <thead>\n",
       "    <tr style=\"text-align: right;\">\n",
       "      <th></th>\n",
       "      <th>Patient_ID</th>\n",
       "      <th>Health_Camp_ID</th>\n",
       "      <th>Registration_Date</th>\n",
       "      <th>Var1</th>\n",
       "      <th>Var2</th>\n",
       "      <th>Var3</th>\n",
       "      <th>Var4</th>\n",
       "      <th>Var5</th>\n",
       "      <th>train_or_test</th>\n",
       "      <th>Outcome</th>\n",
       "      <th>...</th>\n",
       "      <th>Online_Follower</th>\n",
       "      <th>LinkedIn_Shared</th>\n",
       "      <th>Twitter_Shared</th>\n",
       "      <th>Facebook_Shared</th>\n",
       "      <th>Income</th>\n",
       "      <th>Education_Score</th>\n",
       "      <th>Age</th>\n",
       "      <th>First_Interaction</th>\n",
       "      <th>City_Type</th>\n",
       "      <th>Employer_Category</th>\n",
       "    </tr>\n",
       "  </thead>\n",
       "  <tbody>\n",
       "    <tr>\n",
       "      <th>0</th>\n",
       "      <td>489652</td>\n",
       "      <td>6578</td>\n",
       "      <td>10-Sep-05</td>\n",
       "      <td>4</td>\n",
       "      <td>0</td>\n",
       "      <td>0</td>\n",
       "      <td>0</td>\n",
       "      <td>2</td>\n",
       "      <td>train</td>\n",
       "      <td>1</td>\n",
       "      <td>...</td>\n",
       "      <td>0</td>\n",
       "      <td>0</td>\n",
       "      <td>0</td>\n",
       "      <td>0</td>\n",
       "      <td>None</td>\n",
       "      <td>None</td>\n",
       "      <td>None</td>\n",
       "      <td>06-Dec-04</td>\n",
       "      <td>NaN</td>\n",
       "      <td>NaN</td>\n",
       "    </tr>\n",
       "    <tr>\n",
       "      <th>1</th>\n",
       "      <td>507246</td>\n",
       "      <td>6578</td>\n",
       "      <td>18-Aug-05</td>\n",
       "      <td>45</td>\n",
       "      <td>5</td>\n",
       "      <td>0</td>\n",
       "      <td>0</td>\n",
       "      <td>7</td>\n",
       "      <td>train</td>\n",
       "      <td>0</td>\n",
       "      <td>...</td>\n",
       "      <td>0</td>\n",
       "      <td>0</td>\n",
       "      <td>0</td>\n",
       "      <td>0</td>\n",
       "      <td>1</td>\n",
       "      <td>75</td>\n",
       "      <td>40</td>\n",
       "      <td>08-Sep-04</td>\n",
       "      <td>C</td>\n",
       "      <td>Others</td>\n",
       "    </tr>\n",
       "  </tbody>\n",
       "</table>\n",
       "<p>2 rows × 25 columns</p>\n",
       "</div>"
      ],
      "text/plain": [
       "   Patient_ID  Health_Camp_ID Registration_Date  Var1  Var2  Var3  Var4  Var5  \\\n",
       "0      489652            6578         10-Sep-05     4     0     0     0     2   \n",
       "1      507246            6578         18-Aug-05    45     5     0     0     7   \n",
       "\n",
       "  train_or_test  Outcome        ...        Online_Follower LinkedIn_Shared  \\\n",
       "0         train        1        ...                      0               0   \n",
       "1         train        0        ...                      0               0   \n",
       "\n",
       "  Twitter_Shared Facebook_Shared  Income  Education_Score   Age  \\\n",
       "0              0               0    None             None  None   \n",
       "1              0               0       1               75    40   \n",
       "\n",
       "   First_Interaction  City_Type Employer_Category  \n",
       "0          06-Dec-04        NaN               NaN  \n",
       "1          08-Sep-04          C            Others  \n",
       "\n",
       "[2 rows x 25 columns]"
      ]
     },
     "execution_count": 14,
     "metadata": {},
     "output_type": "execute_result"
    }
   ],
   "source": [
    "combined_df = combined_df.merge(patient_profile, on=['Patient_ID'], how='left')\n",
    "print combined_df.shape\n",
    "combined_df.head(2)"
   ]
  },
  {
   "cell_type": "code",
   "execution_count": 15,
   "metadata": {
    "collapsed": false
   },
   "outputs": [
    {
     "data": {
      "text/plain": [
       "516956    32\n",
       "490196    28\n",
       "513633    28\n",
       "509188    28\n",
       "517006    25\n",
       "Name: Patient_ID, dtype: int64"
      ]
     },
     "execution_count": 15,
     "metadata": {},
     "output_type": "execute_result"
    }
   ],
   "source": [
    "combined_df[combined_df.train_or_test=='train'].Patient_ID.value_counts().head()"
   ]
  },
  {
   "cell_type": "code",
   "execution_count": 16,
   "metadata": {
    "collapsed": false
   },
   "outputs": [
    {
     "name": "stdout",
     "output_type": "stream",
     "text": [
      "No of Unique Patients that are in test but not in train: 6864\n",
      "[497447 496446 494067 ..., 508554 527157 496733]\n",
      "No of Unique Patients that are in train: 29828\n",
      "No of Unique Patients that are in test: 15324\n"
     ]
    }
   ],
   "source": [
    "patients_train = combined_df[combined_df.train_or_test=='train']['Patient_ID'].unique()\n",
    "patients_test = combined_df[combined_df.train_or_test=='test']['Patient_ID'].unique()\n",
    "patients_diff = np.setdiff1d(patients_test, patients_train, assume_unique=True)\n",
    "print \"No of Unique Patients that are in test but not in train:\", len(patients_diff)\n",
    "print patients_diff\n",
    "print \"No of Unique Patients that are in train:\", len(patients_train)\n",
    "print \"No of Unique Patients that are in test:\", len(patients_test)"
   ]
  },
  {
   "cell_type": "markdown",
   "metadata": {},
   "source": [
    "So nearly 55% of patients are in test that are also in train.            \n",
    "So mean_outcome_patientwise can help a bit!! "
   ]
  },
  {
   "cell_type": "code",
   "execution_count": 17,
   "metadata": {
    "collapsed": false
   },
   "outputs": [
    {
     "name": "stdout",
     "output_type": "stream",
     "text": [
      "(29828, 2)\n"
     ]
    },
    {
     "data": {
      "text/html": [
       "<div>\n",
       "<table border=\"1\" class=\"dataframe\">\n",
       "  <thead>\n",
       "    <tr style=\"text-align: right;\">\n",
       "      <th></th>\n",
       "      <th>Patient_ID</th>\n",
       "      <th>mean_outcome_pwise</th>\n",
       "    </tr>\n",
       "  </thead>\n",
       "  <tbody>\n",
       "    <tr>\n",
       "      <th>0</th>\n",
       "      <td>485679</td>\n",
       "      <td>0.5</td>\n",
       "    </tr>\n",
       "    <tr>\n",
       "      <th>1</th>\n",
       "      <td>485680</td>\n",
       "      <td>0.0</td>\n",
       "    </tr>\n",
       "    <tr>\n",
       "      <th>2</th>\n",
       "      <td>485681</td>\n",
       "      <td>0.0</td>\n",
       "    </tr>\n",
       "    <tr>\n",
       "      <th>3</th>\n",
       "      <td>485682</td>\n",
       "      <td>1.0</td>\n",
       "    </tr>\n",
       "    <tr>\n",
       "      <th>4</th>\n",
       "      <td>485684</td>\n",
       "      <td>0.0</td>\n",
       "    </tr>\n",
       "  </tbody>\n",
       "</table>\n",
       "</div>"
      ],
      "text/plain": [
       "   Patient_ID  mean_outcome_pwise\n",
       "0      485679                 0.5\n",
       "1      485680                 0.0\n",
       "2      485681                 0.0\n",
       "3      485682                 1.0\n",
       "4      485684                 0.0"
      ]
     },
     "execution_count": 17,
     "metadata": {},
     "output_type": "execute_result"
    }
   ],
   "source": [
    "mean_outcome_patientwise = combined_df[combined_df.train_or_test=='train'].groupby(['Patient_ID'])[['Outcome']].mean()\n",
    "mean_outcome_patientwise.reset_index(inplace=True)\n",
    "mean_outcome_patientwise.rename(columns={'Outcome':'mean_outcome_pwise'}, inplace=True)\n",
    "print mean_outcome_patientwise.shape\n",
    "mean_outcome_patientwise.head()"
   ]
  },
  {
   "cell_type": "code",
   "execution_count": 18,
   "metadata": {
    "collapsed": false
   },
   "outputs": [
    {
     "name": "stdout",
     "output_type": "stream",
     "text": [
      "(110527, 25)\n",
      "(110527, 26)\n"
     ]
    },
    {
     "data": {
      "text/html": [
       "<div>\n",
       "<table border=\"1\" class=\"dataframe\">\n",
       "  <thead>\n",
       "    <tr style=\"text-align: right;\">\n",
       "      <th></th>\n",
       "      <th>Patient_ID</th>\n",
       "      <th>Health_Camp_ID</th>\n",
       "      <th>Registration_Date</th>\n",
       "      <th>Var1</th>\n",
       "      <th>Var2</th>\n",
       "      <th>Var3</th>\n",
       "      <th>Var4</th>\n",
       "      <th>Var5</th>\n",
       "      <th>train_or_test</th>\n",
       "      <th>Outcome</th>\n",
       "      <th>...</th>\n",
       "      <th>LinkedIn_Shared</th>\n",
       "      <th>Twitter_Shared</th>\n",
       "      <th>Facebook_Shared</th>\n",
       "      <th>Income</th>\n",
       "      <th>Education_Score</th>\n",
       "      <th>Age</th>\n",
       "      <th>First_Interaction</th>\n",
       "      <th>City_Type</th>\n",
       "      <th>Employer_Category</th>\n",
       "      <th>mean_outcome_pwise</th>\n",
       "    </tr>\n",
       "  </thead>\n",
       "  <tbody>\n",
       "    <tr>\n",
       "      <th>0</th>\n",
       "      <td>489652</td>\n",
       "      <td>6578</td>\n",
       "      <td>10-Sep-05</td>\n",
       "      <td>4</td>\n",
       "      <td>0</td>\n",
       "      <td>0</td>\n",
       "      <td>0</td>\n",
       "      <td>2</td>\n",
       "      <td>train</td>\n",
       "      <td>1</td>\n",
       "      <td>...</td>\n",
       "      <td>0</td>\n",
       "      <td>0</td>\n",
       "      <td>0</td>\n",
       "      <td>None</td>\n",
       "      <td>None</td>\n",
       "      <td>None</td>\n",
       "      <td>06-Dec-04</td>\n",
       "      <td>NaN</td>\n",
       "      <td>NaN</td>\n",
       "      <td>0.2</td>\n",
       "    </tr>\n",
       "    <tr>\n",
       "      <th>1</th>\n",
       "      <td>507246</td>\n",
       "      <td>6578</td>\n",
       "      <td>18-Aug-05</td>\n",
       "      <td>45</td>\n",
       "      <td>5</td>\n",
       "      <td>0</td>\n",
       "      <td>0</td>\n",
       "      <td>7</td>\n",
       "      <td>train</td>\n",
       "      <td>0</td>\n",
       "      <td>...</td>\n",
       "      <td>0</td>\n",
       "      <td>0</td>\n",
       "      <td>0</td>\n",
       "      <td>1</td>\n",
       "      <td>75</td>\n",
       "      <td>40</td>\n",
       "      <td>08-Sep-04</td>\n",
       "      <td>C</td>\n",
       "      <td>Others</td>\n",
       "      <td>0.5</td>\n",
       "    </tr>\n",
       "  </tbody>\n",
       "</table>\n",
       "<p>2 rows × 26 columns</p>\n",
       "</div>"
      ],
      "text/plain": [
       "   Patient_ID  Health_Camp_ID Registration_Date  Var1  Var2  Var3  Var4  Var5  \\\n",
       "0      489652            6578         10-Sep-05     4     0     0     0     2   \n",
       "1      507246            6578         18-Aug-05    45     5     0     0     7   \n",
       "\n",
       "  train_or_test  Outcome        ...         LinkedIn_Shared Twitter_Shared  \\\n",
       "0         train        1        ...                       0              0   \n",
       "1         train        0        ...                       0              0   \n",
       "\n",
       "  Facebook_Shared Income  Education_Score   Age  First_Interaction  City_Type  \\\n",
       "0               0   None             None  None          06-Dec-04        NaN   \n",
       "1               0      1               75    40          08-Sep-04          C   \n",
       "\n",
       "   Employer_Category mean_outcome_pwise  \n",
       "0                NaN                0.2  \n",
       "1             Others                0.5  \n",
       "\n",
       "[2 rows x 26 columns]"
      ]
     },
     "execution_count": 18,
     "metadata": {},
     "output_type": "execute_result"
    }
   ],
   "source": [
    "# Merging mean_outcome_patientwise with combined_df\n",
    "print combined_df.shape\n",
    "combined_df = combined_df.merge(mean_outcome_patientwise, on=['Patient_ID'], how='left')\n",
    "print combined_df.shape\n",
    "combined_df.head(2)"
   ]
  },
  {
   "cell_type": "code",
   "execution_count": 102,
   "metadata": {
    "collapsed": false
   },
   "outputs": [],
   "source": [
    "# Grouping patient on the basis of City_Type\n",
    "#combined_df.replace('None','',inplace=True)\n",
    "#combined_df[combined_df['Age'].notnull()].groupby(['City_Type'])[['Age']].median()"
   ]
  },
  {
   "cell_type": "code",
   "execution_count": null,
   "metadata": {
    "collapsed": true
   },
   "outputs": [],
   "source": []
  },
  {
   "cell_type": "code",
   "execution_count": null,
   "metadata": {
    "collapsed": true
   },
   "outputs": [],
   "source": []
  },
  {
   "cell_type": "code",
   "execution_count": 19,
   "metadata": {
    "collapsed": false
   },
   "outputs": [],
   "source": [
    "def extract_from_date(date):\n",
    "    date_fields = []\n",
    "    if type(date) is np.float:\n",
    "        date_fields = [-999,-999,-999] \n",
    "    else:\n",
    "        datetime_object = datetime.strptime(date, '%d-%b-%y')\n",
    "        date_fields = [datetime_object.day, datetime_object.month, datetime_object.year]\n",
    "    return date_fields"
   ]
  },
  {
   "cell_type": "code",
   "execution_count": 20,
   "metadata": {
    "collapsed": false,
    "scrolled": false
   },
   "outputs": [
    {
     "name": "stdout",
     "output_type": "stream",
     "text": [
      "(110527, 34)\n"
     ]
    },
    {
     "data": {
      "text/html": [
       "<div>\n",
       "<table border=\"1\" class=\"dataframe\">\n",
       "  <thead>\n",
       "    <tr style=\"text-align: right;\">\n",
       "      <th></th>\n",
       "      <th>Patient_ID</th>\n",
       "      <th>Health_Camp_ID</th>\n",
       "      <th>Var1</th>\n",
       "      <th>Var2</th>\n",
       "      <th>Var3</th>\n",
       "      <th>Var4</th>\n",
       "      <th>Var5</th>\n",
       "      <th>train_or_test</th>\n",
       "      <th>Outcome</th>\n",
       "      <th>Category1</th>\n",
       "      <th>...</th>\n",
       "      <th>Reg_Year</th>\n",
       "      <th>Camp_Start_Day</th>\n",
       "      <th>Camp_Start_Month</th>\n",
       "      <th>Camp_Start_Year</th>\n",
       "      <th>Camp_End_Day</th>\n",
       "      <th>Camp_End_Month</th>\n",
       "      <th>Camp_End_Year</th>\n",
       "      <th>First_Interaction_Day</th>\n",
       "      <th>First_Interaction_Month</th>\n",
       "      <th>First_Interaction_Year</th>\n",
       "    </tr>\n",
       "  </thead>\n",
       "  <tbody>\n",
       "    <tr>\n",
       "      <th>0</th>\n",
       "      <td>489652</td>\n",
       "      <td>6578</td>\n",
       "      <td>4</td>\n",
       "      <td>0</td>\n",
       "      <td>0</td>\n",
       "      <td>0</td>\n",
       "      <td>2</td>\n",
       "      <td>train</td>\n",
       "      <td>1</td>\n",
       "      <td>Third</td>\n",
       "      <td>...</td>\n",
       "      <td>2005</td>\n",
       "      <td>16</td>\n",
       "      <td>8</td>\n",
       "      <td>2005</td>\n",
       "      <td>14</td>\n",
       "      <td>10</td>\n",
       "      <td>2005</td>\n",
       "      <td>6</td>\n",
       "      <td>12</td>\n",
       "      <td>2004</td>\n",
       "    </tr>\n",
       "    <tr>\n",
       "      <th>1</th>\n",
       "      <td>507246</td>\n",
       "      <td>6578</td>\n",
       "      <td>45</td>\n",
       "      <td>5</td>\n",
       "      <td>0</td>\n",
       "      <td>0</td>\n",
       "      <td>7</td>\n",
       "      <td>train</td>\n",
       "      <td>0</td>\n",
       "      <td>Third</td>\n",
       "      <td>...</td>\n",
       "      <td>2005</td>\n",
       "      <td>16</td>\n",
       "      <td>8</td>\n",
       "      <td>2005</td>\n",
       "      <td>14</td>\n",
       "      <td>10</td>\n",
       "      <td>2005</td>\n",
       "      <td>8</td>\n",
       "      <td>9</td>\n",
       "      <td>2004</td>\n",
       "    </tr>\n",
       "  </tbody>\n",
       "</table>\n",
       "<p>2 rows × 34 columns</p>\n",
       "</div>"
      ],
      "text/plain": [
       "   Patient_ID  Health_Camp_ID  Var1  Var2  Var3  Var4  Var5 train_or_test  \\\n",
       "0      489652            6578     4     0     0     0     2         train   \n",
       "1      507246            6578    45     5     0     0     7         train   \n",
       "\n",
       "   Outcome Category1          ...           Reg_Year  Camp_Start_Day  \\\n",
       "0        1     Third          ...               2005              16   \n",
       "1        0     Third          ...               2005              16   \n",
       "\n",
       "   Camp_Start_Month  Camp_Start_Year  Camp_End_Day  Camp_End_Month  \\\n",
       "0                 8             2005            14              10   \n",
       "1                 8             2005            14              10   \n",
       "\n",
       "  Camp_End_Year First_Interaction_Day First_Interaction_Month  \\\n",
       "0          2005                     6                      12   \n",
       "1          2005                     8                       9   \n",
       "\n",
       "  First_Interaction_Year  \n",
       "0                   2004  \n",
       "1                   2004  \n",
       "\n",
       "[2 rows x 34 columns]"
      ]
     },
     "execution_count": 20,
     "metadata": {},
     "output_type": "execute_result"
    }
   ],
   "source": [
    "combined_df['Reg_Date'] = combined_df['Registration_Date'].apply(extract_from_date)\n",
    "combined_df['Reg_Day'] = combined_df['Reg_Date'].apply(lambda x: x[0])\n",
    "combined_df['Reg_Month'] = combined_df['Reg_Date'].apply(lambda x: x[1])\n",
    "combined_df['Reg_Year'] = combined_df['Reg_Date'].apply(lambda x: x[2])\n",
    "\n",
    "combined_df['Camp_Start_Date'] = combined_df['Camp_Start_Date'].apply(extract_from_date)\n",
    "combined_df['Camp_Start_Day'] = combined_df['Camp_Start_Date'].apply(lambda x: x[0])\n",
    "combined_df['Camp_Start_Month'] = combined_df['Camp_Start_Date'].apply(lambda x: x[1])\n",
    "combined_df['Camp_Start_Year'] = combined_df['Camp_Start_Date'].apply(lambda x: x[2])\n",
    "\n",
    "combined_df['Camp_End_Date'] = combined_df['Camp_End_Date'].apply(extract_from_date)\n",
    "combined_df['Camp_End_Day'] = combined_df['Camp_End_Date'].apply(lambda x: x[0])\n",
    "combined_df['Camp_End_Month'] = combined_df['Camp_End_Date'].apply(lambda x: x[1])\n",
    "combined_df['Camp_End_Year'] = combined_df['Camp_End_Date'].apply(lambda x: x[2])\n",
    "\n",
    "combined_df['First_Interaction'] = combined_df['First_Interaction'].apply(extract_from_date)\n",
    "combined_df['First_Interaction_Day'] = combined_df['First_Interaction'].apply(lambda x: x[0])\n",
    "combined_df['First_Interaction_Month'] = combined_df['First_Interaction'].apply(lambda x: x[1])\n",
    "combined_df['First_Interaction_Year'] = combined_df['First_Interaction'].apply(lambda x: x[2])\n",
    "\n",
    "combined_df.drop(['Registration_Date','Reg_Date','Camp_Start_Date','Camp_End_Date','First_Interaction'], axis=1, inplace=True)\n",
    "print combined_df.shape\n",
    "combined_df.head(2)"
   ]
  },
  {
   "cell_type": "code",
   "execution_count": 21,
   "metadata": {
    "collapsed": false
   },
   "outputs": [
    {
     "data": {
      "text/plain": [
       "array([2005, 2004, 2006, 2003], dtype=int64)"
      ]
     },
     "execution_count": 21,
     "metadata": {},
     "output_type": "execute_result"
    }
   ],
   "source": [
    "# Checking whether train data is from camps that started before April 2006 or not\n",
    "combined_df[combined_df.train_or_test=='train']['Camp_Start_Year'].unique()\n",
    "# Year checked!"
   ]
  },
  {
   "cell_type": "markdown",
   "metadata": {},
   "source": [
    "** Merging first_health_camp_attended, second_health_camp_attended, third_health_camp_attended **"
   ]
  },
  {
   "cell_type": "code",
   "execution_count": 22,
   "metadata": {
    "collapsed": false
   },
   "outputs": [
    {
     "data": {
      "text/plain": [
       "\"\\ncombined_df = combined_df.merge(first_health_camp_attended[[0,1,2,3]], on=['Patient_ID','Health_Camp_ID'], how='left')\\ncombined_df.rename(columns={'Health_Score':'Health_Score_Camp1'}, inplace=True)\\ncombined_df = combined_df.merge(second_health_camp_attended, on=['Patient_ID','Health_Camp_ID'], how='left')\\ncombined_df.rename(columns={'Health_Score':'Health_Score_Camp2'}, inplace=True)\\ncombined_df = combined_df.merge(third_health_camp_attended, on=['Patient_ID','Health_Camp_ID'], how='left')\\nprint combined_df.shape\\ncombined_df.head(2)\\n\""
      ]
     },
     "execution_count": 22,
     "metadata": {},
     "output_type": "execute_result"
    }
   ],
   "source": [
    "'''\n",
    "combined_df = combined_df.merge(first_health_camp_attended[[0,1,2,3]], on=['Patient_ID','Health_Camp_ID'], how='left')\n",
    "combined_df.rename(columns={'Health_Score':'Health_Score_Camp1'}, inplace=True)\n",
    "combined_df = combined_df.merge(second_health_camp_attended, on=['Patient_ID','Health_Camp_ID'], how='left')\n",
    "combined_df.rename(columns={'Health_Score':'Health_Score_Camp2'}, inplace=True)\n",
    "combined_df = combined_df.merge(third_health_camp_attended, on=['Patient_ID','Health_Camp_ID'], how='left')\n",
    "print combined_df.shape\n",
    "combined_df.head(2)\n",
    "'''"
   ]
  },
  {
   "cell_type": "code",
   "execution_count": null,
   "metadata": {
    "collapsed": true
   },
   "outputs": [],
   "source": []
  },
  {
   "cell_type": "code",
   "execution_count": 23,
   "metadata": {
    "collapsed": false
   },
   "outputs": [
    {
     "name": "stdout",
     "output_type": "stream",
     "text": [
      "First     44\n",
      "Second    11\n",
      "Third     10\n",
      "Name: Category1, dtype: int64\n",
      "C    16\n",
      "E    15\n",
      "F    11\n",
      "G    10\n",
      "A     7\n",
      "D     4\n",
      "B     2\n",
      "Name: Category2, dtype: int64\n",
      "2    62\n",
      "1     3\n",
      "Name: Category3, dtype: int64\n"
     ]
    }
   ],
   "source": [
    "print health_camp_detail.Category1.value_counts()\n",
    "print health_camp_detail.Category2.value_counts()\n",
    "print health_camp_detail.Category3.value_counts()"
   ]
  },
  {
   "cell_type": "code",
   "execution_count": 24,
   "metadata": {
    "collapsed": false
   },
   "outputs": [
    {
     "name": "stdout",
     "output_type": "stream",
     "text": [
      "(110527, 34)\n",
      "(110527, 43)\n",
      "['Patient_ID', 'Health_Camp_ID', 'Var1', 'Var2', 'Var3', 'Var4', 'Var5', 'train_or_test', 'Outcome', 'Online_Follower', 'LinkedIn_Shared', 'Twitter_Shared', 'Facebook_Shared', 'Income', 'Education_Score', 'Age', 'City_Type', 'Employer_Category', 'mean_outcome_pwise', 'Reg_Day', 'Reg_Month', 'Reg_Year', 'Camp_Start_Day', 'Camp_Start_Month', 'Camp_Start_Year', 'Camp_End_Day', 'Camp_End_Month', 'Camp_End_Year', 'First_Interaction_Day', 'First_Interaction_Month', 'First_Interaction_Year', 'Category1_First', 'Category1_Second', 'Category1_Third', 'Category2_A', 'Category2_B', 'Category2_C', 'Category2_D', 'Category2_E', 'Category2_F', 'Category2_G', 'Category3_1', 'Category3_2']\n"
     ]
    }
   ],
   "source": [
    "# OHE of Category1, Category2, Category3\n",
    "print combined_df.shape\n",
    "combined_df = pd.get_dummies(combined_df, columns=['Category1','Category2','Category3'])\n",
    "print combined_df.shape\n",
    "print combined_df.columns.tolist()"
   ]
  },
  {
   "cell_type": "code",
   "execution_count": 25,
   "metadata": {
    "collapsed": false
   },
   "outputs": [
    {
     "name": "stdout",
     "output_type": "stream",
     "text": [
      "Technology           4352\n",
      "Software Industry    2938\n",
      "Others               2937\n",
      "Consulting           2755\n",
      "Education            1487\n",
      "BFSI                 1118\n",
      "Retail                707\n",
      "Manufacturing         666\n",
      "Health                593\n",
      "Transport             492\n",
      "Real Estate           462\n",
      "Food                  431\n",
      "Telecom               370\n",
      "Broadcasting          256\n",
      "Name: Employer_Category, dtype: int64\n",
      "B    12242\n",
      "H    10203\n",
      "D     7881\n",
      "C     6343\n",
      "G     6298\n",
      "E     6009\n",
      "A     5905\n",
      "I     4904\n",
      "F     4140\n",
      "Name: City_Type, dtype: int64\n"
     ]
    }
   ],
   "source": [
    "print combined_df.Employer_Category.value_counts()\n",
    "print combined_df.City_Type.value_counts()"
   ]
  },
  {
   "cell_type": "code",
   "execution_count": 26,
   "metadata": {
    "collapsed": false
   },
   "outputs": [
    {
     "name": "stdout",
     "output_type": "stream",
     "text": [
      "(110527, 43)\n",
      "(110527, 66)\n",
      "['Patient_ID', 'Health_Camp_ID', 'Var1', 'Var2', 'Var3', 'Var4', 'Var5', 'train_or_test', 'Outcome', 'Online_Follower', 'LinkedIn_Shared', 'Twitter_Shared', 'Facebook_Shared', 'Income', 'Education_Score', 'Age', 'mean_outcome_pwise', 'Reg_Day', 'Reg_Month', 'Reg_Year', 'Camp_Start_Day', 'Camp_Start_Month', 'Camp_Start_Year', 'Camp_End_Day', 'Camp_End_Month', 'Camp_End_Year', 'First_Interaction_Day', 'First_Interaction_Month', 'First_Interaction_Year', 'Category1_First', 'Category1_Second', 'Category1_Third', 'Category2_A', 'Category2_B', 'Category2_C', 'Category2_D', 'Category2_E', 'Category2_F', 'Category2_G', 'Category3_1', 'Category3_2', 'City_Type_A', 'City_Type_B', 'City_Type_C', 'City_Type_D', 'City_Type_E', 'City_Type_F', 'City_Type_G', 'City_Type_H', 'City_Type_I', 'City_Type_nan', 'Employer_Category_BFSI', 'Employer_Category_Broadcasting', 'Employer_Category_Consulting', 'Employer_Category_Education', 'Employer_Category_Food', 'Employer_Category_Health', 'Employer_Category_Manufacturing', 'Employer_Category_Others', 'Employer_Category_Real Estate', 'Employer_Category_Retail', 'Employer_Category_Software Industry', 'Employer_Category_Technology', 'Employer_Category_Telecom', 'Employer_Category_Transport', 'Employer_Category_nan']\n"
     ]
    }
   ],
   "source": [
    "# OHE of City_Type, Employer_Category\n",
    "print combined_df.shape\n",
    "combined_df = pd.get_dummies(combined_df, columns=['City_Type','Employer_Category'], dummy_na=True)\n",
    "print combined_df.shape\n",
    "print combined_df.columns.tolist()"
   ]
  },
  {
   "cell_type": "code",
   "execution_count": 27,
   "metadata": {
    "collapsed": false
   },
   "outputs": [
    {
     "name": "stdout",
     "output_type": "stream",
     "text": [
      "189\n",
      "(110527, 66)\n",
      "(110527, 255)\n",
      "['Patient_ID', 'Health_Camp_ID', 'Var1', 'Var2', 'Var3', 'Var4', 'Var5', 'train_or_test', 'Outcome', 'Online_Follower', 'LinkedIn_Shared', 'Twitter_Shared', 'Facebook_Shared', 'Income', 'Education_Score', 'Age', 'mean_outcome_pwise', 'Category1_First', 'Category1_Second', 'Category1_Third', 'Category2_A', 'Category2_B', 'Category2_C', 'Category2_D', 'Category2_E', 'Category2_F', 'Category2_G', 'Category3_1', 'Category3_2', 'City_Type_A', 'City_Type_B', 'City_Type_C', 'City_Type_D', 'City_Type_E', 'City_Type_F', 'City_Type_G', 'City_Type_H', 'City_Type_I', 'City_Type_nan', 'Employer_Category_BFSI', 'Employer_Category_Broadcasting', 'Employer_Category_Consulting', 'Employer_Category_Education', 'Employer_Category_Food', 'Employer_Category_Health', 'Employer_Category_Manufacturing', 'Employer_Category_Others', 'Employer_Category_Real Estate', 'Employer_Category_Retail', 'Employer_Category_Software Industry', 'Employer_Category_Technology', 'Employer_Category_Telecom', 'Employer_Category_Transport', 'Employer_Category_nan', 'Reg_Day_-999.0', 'Reg_Day_1.0', 'Reg_Day_2.0', 'Reg_Day_3.0', 'Reg_Day_4.0', 'Reg_Day_5.0', 'Reg_Day_6.0', 'Reg_Day_7.0', 'Reg_Day_8.0', 'Reg_Day_9.0', 'Reg_Day_10.0', 'Reg_Day_11.0', 'Reg_Day_12.0', 'Reg_Day_13.0', 'Reg_Day_14.0', 'Reg_Day_15.0', 'Reg_Day_16.0', 'Reg_Day_17.0', 'Reg_Day_18.0', 'Reg_Day_19.0', 'Reg_Day_20.0', 'Reg_Day_21.0', 'Reg_Day_22.0', 'Reg_Day_23.0', 'Reg_Day_24.0', 'Reg_Day_25.0', 'Reg_Day_26.0', 'Reg_Day_27.0', 'Reg_Day_28.0', 'Reg_Day_29.0', 'Reg_Day_30.0', 'Reg_Day_31.0', 'Reg_Day_nan', 'Reg_Month_-999.0', 'Reg_Month_1.0', 'Reg_Month_2.0', 'Reg_Month_3.0', 'Reg_Month_4.0', 'Reg_Month_5.0', 'Reg_Month_6.0', 'Reg_Month_7.0', 'Reg_Month_8.0', 'Reg_Month_9.0', 'Reg_Month_10.0', 'Reg_Month_11.0', 'Reg_Month_12.0', 'Reg_Month_nan', 'Reg_Year_-999.0', 'Reg_Year_2003.0', 'Reg_Year_2004.0', 'Reg_Year_2005.0', 'Reg_Year_2006.0', 'Reg_Year_2007.0', 'Reg_Year_nan', 'Camp_Start_Day_1.0', 'Camp_Start_Day_2.0', 'Camp_Start_Day_3.0', 'Camp_Start_Day_4.0', 'Camp_Start_Day_5.0', 'Camp_Start_Day_6.0', 'Camp_Start_Day_7.0', 'Camp_Start_Day_8.0', 'Camp_Start_Day_9.0', 'Camp_Start_Day_10.0', 'Camp_Start_Day_11.0', 'Camp_Start_Day_12.0', 'Camp_Start_Day_13.0', 'Camp_Start_Day_15.0', 'Camp_Start_Day_16.0', 'Camp_Start_Day_17.0', 'Camp_Start_Day_18.0', 'Camp_Start_Day_19.0', 'Camp_Start_Day_20.0', 'Camp_Start_Day_21.0', 'Camp_Start_Day_22.0', 'Camp_Start_Day_23.0', 'Camp_Start_Day_24.0', 'Camp_Start_Day_26.0', 'Camp_Start_Day_27.0', 'Camp_Start_Day_29.0', 'Camp_Start_Day_30.0', 'Camp_Start_Day_nan', 'Camp_Start_Month_1.0', 'Camp_Start_Month_2.0', 'Camp_Start_Month_3.0', 'Camp_Start_Month_4.0', 'Camp_Start_Month_5.0', 'Camp_Start_Month_6.0', 'Camp_Start_Month_7.0', 'Camp_Start_Month_8.0', 'Camp_Start_Month_9.0', 'Camp_Start_Month_10.0', 'Camp_Start_Month_11.0', 'Camp_Start_Month_12.0', 'Camp_Start_Month_nan', 'Camp_Start_Year_2003.0', 'Camp_Start_Year_2004.0', 'Camp_Start_Year_2005.0', 'Camp_Start_Year_2006.0', 'Camp_Start_Year_2007.0', 'Camp_Start_Year_nan', 'Camp_End_Day_1.0', 'Camp_End_Day_2.0', 'Camp_End_Day_3.0', 'Camp_End_Day_4.0', 'Camp_End_Day_5.0', 'Camp_End_Day_6.0', 'Camp_End_Day_7.0', 'Camp_End_Day_8.0', 'Camp_End_Day_9.0', 'Camp_End_Day_10.0', 'Camp_End_Day_11.0', 'Camp_End_Day_12.0', 'Camp_End_Day_13.0', 'Camp_End_Day_14.0', 'Camp_End_Day_15.0', 'Camp_End_Day_16.0', 'Camp_End_Day_17.0', 'Camp_End_Day_18.0', 'Camp_End_Day_19.0', 'Camp_End_Day_20.0', 'Camp_End_Day_21.0', 'Camp_End_Day_22.0', 'Camp_End_Day_23.0', 'Camp_End_Day_24.0', 'Camp_End_Day_25.0', 'Camp_End_Day_27.0', 'Camp_End_Day_28.0', 'Camp_End_Day_30.0', 'Camp_End_Day_nan', 'Camp_End_Month_1.0', 'Camp_End_Month_2.0', 'Camp_End_Month_3.0', 'Camp_End_Month_4.0', 'Camp_End_Month_5.0', 'Camp_End_Month_6.0', 'Camp_End_Month_7.0', 'Camp_End_Month_8.0', 'Camp_End_Month_9.0', 'Camp_End_Month_10.0', 'Camp_End_Month_11.0', 'Camp_End_Month_12.0', 'Camp_End_Month_nan', 'Camp_End_Year_2003.0', 'Camp_End_Year_2004.0', 'Camp_End_Year_2005.0', 'Camp_End_Year_2006.0', 'Camp_End_Year_2007.0', 'Camp_End_Year_nan', 'First_Interaction_Day_1.0', 'First_Interaction_Day_2.0', 'First_Interaction_Day_3.0', 'First_Interaction_Day_4.0', 'First_Interaction_Day_5.0', 'First_Interaction_Day_6.0', 'First_Interaction_Day_7.0', 'First_Interaction_Day_8.0', 'First_Interaction_Day_9.0', 'First_Interaction_Day_10.0', 'First_Interaction_Day_11.0', 'First_Interaction_Day_12.0', 'First_Interaction_Day_13.0', 'First_Interaction_Day_14.0', 'First_Interaction_Day_15.0', 'First_Interaction_Day_16.0', 'First_Interaction_Day_17.0', 'First_Interaction_Day_18.0', 'First_Interaction_Day_19.0', 'First_Interaction_Day_20.0', 'First_Interaction_Day_21.0', 'First_Interaction_Day_22.0', 'First_Interaction_Day_23.0', 'First_Interaction_Day_24.0', 'First_Interaction_Day_25.0', 'First_Interaction_Day_26.0', 'First_Interaction_Day_27.0', 'First_Interaction_Day_28.0', 'First_Interaction_Day_29.0', 'First_Interaction_Day_30.0', 'First_Interaction_Day_31.0', 'First_Interaction_Day_nan', 'First_Interaction_Month_1.0', 'First_Interaction_Month_2.0', 'First_Interaction_Month_3.0', 'First_Interaction_Month_4.0', 'First_Interaction_Month_5.0', 'First_Interaction_Month_6.0', 'First_Interaction_Month_7.0', 'First_Interaction_Month_8.0', 'First_Interaction_Month_9.0', 'First_Interaction_Month_10.0', 'First_Interaction_Month_11.0', 'First_Interaction_Month_12.0', 'First_Interaction_Month_nan', 'First_Interaction_Year_2002.0', 'First_Interaction_Year_2003.0', 'First_Interaction_Year_2004.0', 'First_Interaction_Year_2005.0', 'First_Interaction_Year_2006.0', 'First_Interaction_Year_2007.0', 'First_Interaction_Year_nan']\n"
     ]
    }
   ],
   "source": [
    "# OHE of 'Reg_Day', 'Reg_Month', 'Reg_Year', 'Camp_Start_Day', 'Camp_Start_Month', 'Camp_Start_Year', \n",
    "# 'Camp_End_Day', 'Camp_End_Month', 'Camp_End_Year', 'First_Interaction_Day', 'First_Interaction_Month', 'First_Interaction_Year'\n",
    "col_list = ['Reg_Day','Reg_Month','Reg_Year','Camp_Start_Day','Camp_Start_Month','Camp_Start_Year','Camp_End_Day','Camp_End_Month','Camp_End_Year','First_Interaction_Day','First_Interaction_Month','First_Interaction_Year']\n",
    "no_of_new_cols = 0\n",
    "for col in col_list:\n",
    "    no_of_new_cols += len(combined_df[col].unique())\n",
    "print no_of_new_cols\n",
    "print combined_df.shape\n",
    "combined_df = pd.get_dummies(combined_df, columns=col_list, dummy_na=True)\n",
    "print combined_df.shape\n",
    "print combined_df.columns.tolist()"
   ]
  },
  {
   "cell_type": "code",
   "execution_count": 28,
   "metadata": {
    "collapsed": false
   },
   "outputs": [
    {
     "data": {
      "text/html": [
       "<div>\n",
       "<table border=\"1\" class=\"dataframe\">\n",
       "  <thead>\n",
       "    <tr style=\"text-align: right;\">\n",
       "      <th></th>\n",
       "      <th>Patient_ID</th>\n",
       "      <th>Health_Camp_ID</th>\n",
       "      <th>Var1</th>\n",
       "      <th>Var2</th>\n",
       "      <th>Var3</th>\n",
       "      <th>Var4</th>\n",
       "      <th>Var5</th>\n",
       "      <th>train_or_test</th>\n",
       "      <th>Outcome</th>\n",
       "      <th>Online_Follower</th>\n",
       "      <th>...</th>\n",
       "      <th>First_Interaction_Month_11.0</th>\n",
       "      <th>First_Interaction_Month_12.0</th>\n",
       "      <th>First_Interaction_Month_nan</th>\n",
       "      <th>First_Interaction_Year_2002.0</th>\n",
       "      <th>First_Interaction_Year_2003.0</th>\n",
       "      <th>First_Interaction_Year_2004.0</th>\n",
       "      <th>First_Interaction_Year_2005.0</th>\n",
       "      <th>First_Interaction_Year_2006.0</th>\n",
       "      <th>First_Interaction_Year_2007.0</th>\n",
       "      <th>First_Interaction_Year_nan</th>\n",
       "    </tr>\n",
       "  </thead>\n",
       "  <tbody>\n",
       "    <tr>\n",
       "      <th>0</th>\n",
       "      <td>489652</td>\n",
       "      <td>6578</td>\n",
       "      <td>4</td>\n",
       "      <td>0</td>\n",
       "      <td>0</td>\n",
       "      <td>0</td>\n",
       "      <td>2</td>\n",
       "      <td>train</td>\n",
       "      <td>1</td>\n",
       "      <td>0</td>\n",
       "      <td>...</td>\n",
       "      <td>0.0</td>\n",
       "      <td>1.0</td>\n",
       "      <td>0.0</td>\n",
       "      <td>0.0</td>\n",
       "      <td>0.0</td>\n",
       "      <td>1.0</td>\n",
       "      <td>0.0</td>\n",
       "      <td>0.0</td>\n",
       "      <td>0.0</td>\n",
       "      <td>0.0</td>\n",
       "    </tr>\n",
       "    <tr>\n",
       "      <th>1</th>\n",
       "      <td>507246</td>\n",
       "      <td>6578</td>\n",
       "      <td>45</td>\n",
       "      <td>5</td>\n",
       "      <td>0</td>\n",
       "      <td>0</td>\n",
       "      <td>7</td>\n",
       "      <td>train</td>\n",
       "      <td>0</td>\n",
       "      <td>0</td>\n",
       "      <td>...</td>\n",
       "      <td>0.0</td>\n",
       "      <td>0.0</td>\n",
       "      <td>0.0</td>\n",
       "      <td>0.0</td>\n",
       "      <td>0.0</td>\n",
       "      <td>1.0</td>\n",
       "      <td>0.0</td>\n",
       "      <td>0.0</td>\n",
       "      <td>0.0</td>\n",
       "      <td>0.0</td>\n",
       "    </tr>\n",
       "  </tbody>\n",
       "</table>\n",
       "<p>2 rows × 255 columns</p>\n",
       "</div>"
      ],
      "text/plain": [
       "   Patient_ID  Health_Camp_ID  Var1  Var2  Var3  Var4  Var5 train_or_test  \\\n",
       "0      489652            6578     4     0     0     0     2         train   \n",
       "1      507246            6578    45     5     0     0     7         train   \n",
       "\n",
       "   Outcome  Online_Follower             ...              \\\n",
       "0        1                0             ...               \n",
       "1        0                0             ...               \n",
       "\n",
       "   First_Interaction_Month_11.0  First_Interaction_Month_12.0  \\\n",
       "0                           0.0                           1.0   \n",
       "1                           0.0                           0.0   \n",
       "\n",
       "   First_Interaction_Month_nan First_Interaction_Year_2002.0  \\\n",
       "0                          0.0                           0.0   \n",
       "1                          0.0                           0.0   \n",
       "\n",
       "  First_Interaction_Year_2003.0 First_Interaction_Year_2004.0  \\\n",
       "0                           0.0                           1.0   \n",
       "1                           0.0                           1.0   \n",
       "\n",
       "   First_Interaction_Year_2005.0  First_Interaction_Year_2006.0  \\\n",
       "0                            0.0                            0.0   \n",
       "1                            0.0                            0.0   \n",
       "\n",
       "   First_Interaction_Year_2007.0  First_Interaction_Year_nan  \n",
       "0                            0.0                         0.0  \n",
       "1                            0.0                         0.0  \n",
       "\n",
       "[2 rows x 255 columns]"
      ]
     },
     "execution_count": 28,
     "metadata": {},
     "output_type": "execute_result"
    }
   ],
   "source": [
    "combined_df.fillna(-999,inplace=True)\n",
    "combined_df.replace('None',-999,inplace=True)\n",
    "combined_df.head(2)"
   ]
  },
  {
   "cell_type": "code",
   "execution_count": null,
   "metadata": {
    "collapsed": false
   },
   "outputs": [],
   "source": []
  },
  {
   "cell_type": "code",
   "execution_count": null,
   "metadata": {
    "collapsed": true
   },
   "outputs": [],
   "source": []
  },
  {
   "cell_type": "code",
   "execution_count": null,
   "metadata": {
    "collapsed": true
   },
   "outputs": [],
   "source": []
  },
  {
   "cell_type": "markdown",
   "metadata": {},
   "source": [
    "# XGB Model"
   ]
  },
  {
   "cell_type": "code",
   "execution_count": 29,
   "metadata": {
    "collapsed": false
   },
   "outputs": [
    {
     "name": "stdout",
     "output_type": "stream",
     "text": [
      "(75278, 255)\n",
      "(35249, 255)\n"
     ]
    }
   ],
   "source": [
    "train = combined_df[combined_df['train_or_test']=='train']\n",
    "test = combined_df[combined_df['train_or_test']=='test']\n",
    "print train.shape\n",
    "print test.shape"
   ]
  },
  {
   "cell_type": "code",
   "execution_count": 30,
   "metadata": {
    "collapsed": false
   },
   "outputs": [
    {
     "name": "stdout",
     "output_type": "stream",
     "text": [
      "(5567, 255)\n",
      "(69711, 255)\n",
      "75278\n"
     ]
    }
   ],
   "source": [
    "validation = train[train['Camp_Start_Year_2006.0']==1.0]\n",
    "train2 = train[train['Camp_Start_Year_2006.0']==0.0]\n",
    "\n",
    "# These corresponds to the Health Camp that started between 01st Sept 2005 - 31st March 2006\n",
    "#Health_Camp_ID_list_for_val = [6555,6543,6537,6571,6575,6534,6541,6528,6529]\n",
    "#validation = train[train.Health_Camp_ID in Health_Camp_ID_list_for_val]\n",
    "#train2 = train[train.Health_Camp_ID not in Health_Camp_ID_list_for_val]\n",
    "\n",
    "print validation.shape\n",
    "print train2.shape\n",
    "print train2.shape[0]+validation.shape[0]"
   ]
  },
  {
   "cell_type": "code",
   "execution_count": 31,
   "metadata": {
    "collapsed": false
   },
   "outputs": [
    {
     "name": "stderr",
     "output_type": "stream",
     "text": [
      "C:\\Anaconda2\\lib\\site-packages\\ipykernel\\__main__.py:4: SettingWithCopyWarning: \n",
      "A value is trying to be set on a copy of a slice from a DataFrame\n",
      "\n",
      "See the caveats in the documentation: http://pandas.pydata.org/pandas-docs/stable/indexing.html#indexing-view-versus-copy\n",
      "C:\\Anaconda2\\lib\\site-packages\\ipykernel\\__main__.py:5: SettingWithCopyWarning: \n",
      "A value is trying to be set on a copy of a slice from a DataFrame\n",
      "\n",
      "See the caveats in the documentation: http://pandas.pydata.org/pandas-docs/stable/indexing.html#indexing-view-versus-copy\n",
      "C:\\Anaconda2\\lib\\site-packages\\ipykernel\\__main__.py:6: SettingWithCopyWarning: \n",
      "A value is trying to be set on a copy of a slice from a DataFrame\n",
      "\n",
      "See the caveats in the documentation: http://pandas.pydata.org/pandas-docs/stable/indexing.html#indexing-view-versus-copy\n",
      "C:\\Anaconda2\\lib\\site-packages\\ipykernel\\__main__.py:8: SettingWithCopyWarning: \n",
      "A value is trying to be set on a copy of a slice from a DataFrame\n",
      "\n",
      "See the caveats in the documentation: http://pandas.pydata.org/pandas-docs/stable/indexing.html#indexing-view-versus-copy\n"
     ]
    }
   ],
   "source": [
    "y_train = train.Outcome.values\n",
    "y_train2 = train2.Outcome.values\n",
    "y_validation = validation.Outcome.values\n",
    "train.drop(['train_or_test','Patient_ID','Health_Camp_ID','Outcome'], axis=1, inplace=True)\n",
    "train2.drop(['train_or_test','Patient_ID','Health_Camp_ID','Outcome'], axis=1, inplace=True)\n",
    "validation.drop(['train_or_test','Patient_ID','Health_Camp_ID','Outcome'], axis=1, inplace=True)\n",
    "sub_df = test[['Patient_ID','Health_Camp_ID']].reset_index(drop=True)\n",
    "test.drop(['train_or_test','Patient_ID','Health_Camp_ID','Outcome'], axis=1, inplace=True)"
   ]
  },
  {
   "cell_type": "code",
   "execution_count": 32,
   "metadata": {
    "collapsed": false
   },
   "outputs": [
    {
     "name": "stdout",
     "output_type": "stream",
     "text": [
      "75278 [1 0 1 ..., 1 0 0]\n",
      "5567 [1 1 0 ..., 1 0 1]\n",
      "   Patient_ID  Health_Camp_ID\n",
      "0      505701            6548\n",
      "1      500633            6584\n",
      "   Var1  Var2  Var3  Var4  Var5  Online_Follower  LinkedIn_Shared  \\\n",
      "0     4     0     0     0     2                0                0   \n",
      "1    45     5     0     0     7                0                0   \n",
      "\n",
      "   Twitter_Shared  Facebook_Shared Income             ...              \\\n",
      "0               0                0   -999             ...               \n",
      "1               0                0      1             ...               \n",
      "\n",
      "  First_Interaction_Month_11.0 First_Interaction_Month_12.0  \\\n",
      "0                          0.0                          1.0   \n",
      "1                          0.0                          0.0   \n",
      "\n",
      "   First_Interaction_Month_nan  First_Interaction_Year_2002.0  \\\n",
      "0                          0.0                            0.0   \n",
      "1                          0.0                            0.0   \n",
      "\n",
      "   First_Interaction_Year_2003.0  First_Interaction_Year_2004.0  \\\n",
      "0                            0.0                            1.0   \n",
      "1                            0.0                            1.0   \n",
      "\n",
      "   First_Interaction_Year_2005.0  First_Interaction_Year_2006.0  \\\n",
      "0                            0.0                            0.0   \n",
      "1                            0.0                            0.0   \n",
      "\n",
      "   First_Interaction_Year_2007.0  First_Interaction_Year_nan  \n",
      "0                            0.0                         0.0  \n",
      "1                            0.0                         0.0  \n",
      "\n",
      "[2 rows x 251 columns]\n",
      "    Var1  Var2  Var3  Var4  Var5  Online_Follower  LinkedIn_Shared  \\\n",
      "4     15     1     0     0     7                0                0   \n",
      "23     0     0     0     0     0                0                0   \n",
      "\n",
      "    Twitter_Shared  Facebook_Shared Income             ...              \\\n",
      "4                0                1      1             ...               \n",
      "23               0                0      0             ...               \n",
      "\n",
      "   First_Interaction_Month_11.0 First_Interaction_Month_12.0  \\\n",
      "4                           0.0                          0.0   \n",
      "23                          0.0                          0.0   \n",
      "\n",
      "    First_Interaction_Month_nan  First_Interaction_Year_2002.0  \\\n",
      "4                           0.0                            0.0   \n",
      "23                          0.0                            0.0   \n",
      "\n",
      "    First_Interaction_Year_2003.0  First_Interaction_Year_2004.0  \\\n",
      "4                             1.0                            0.0   \n",
      "23                            0.0                            0.0   \n",
      "\n",
      "    First_Interaction_Year_2005.0  First_Interaction_Year_2006.0  \\\n",
      "4                             0.0                            0.0   \n",
      "23                            0.0                            1.0   \n",
      "\n",
      "    First_Interaction_Year_2007.0  First_Interaction_Year_nan  \n",
      "4                             0.0                         0.0  \n",
      "23                            0.0                         0.0  \n",
      "\n",
      "[2 rows x 251 columns]\n",
      "       Var1  Var2  Var3  Var4  Var5  Online_Follower  LinkedIn_Shared  \\\n",
      "75278     1     0     0     0     2                0                0   \n",
      "75279     0     0     0     0     0                0                1   \n",
      "\n",
      "       Twitter_Shared  Facebook_Shared Income             ...              \\\n",
      "75278               0                0      0             ...               \n",
      "75279               0                0      1             ...               \n",
      "\n",
      "      First_Interaction_Month_11.0 First_Interaction_Month_12.0  \\\n",
      "75278                          0.0                          0.0   \n",
      "75279                          0.0                          1.0   \n",
      "\n",
      "       First_Interaction_Month_nan  First_Interaction_Year_2002.0  \\\n",
      "75278                          0.0                            0.0   \n",
      "75279                          0.0                            0.0   \n",
      "\n",
      "       First_Interaction_Year_2003.0  First_Interaction_Year_2004.0  \\\n",
      "75278                            1.0                            0.0   \n",
      "75279                            0.0                            1.0   \n",
      "\n",
      "       First_Interaction_Year_2005.0  First_Interaction_Year_2006.0  \\\n",
      "75278                            0.0                            0.0   \n",
      "75279                            0.0                            0.0   \n",
      "\n",
      "       First_Interaction_Year_2007.0  First_Interaction_Year_nan  \n",
      "75278                            0.0                         0.0  \n",
      "75279                            0.0                         0.0  \n",
      "\n",
      "[2 rows x 251 columns]\n"
     ]
    }
   ],
   "source": [
    "print len(y_train), y_train\n",
    "print len(y_validation), y_validation\n",
    "print sub_df.head(2)\n",
    "print train.head(2)\n",
    "print validation.head(2)\n",
    "print test.head(2)"
   ]
  },
  {
   "cell_type": "code",
   "execution_count": 33,
   "metadata": {
    "collapsed": false,
    "scrolled": true
   },
   "outputs": [
    {
     "name": "stdout",
     "output_type": "stream",
     "text": [
      "75278\n",
      "251\n"
     ]
    }
   ],
   "source": [
    "dtrain = xgb.DMatrix(train.values, label=y_train)\n",
    "print dtrain.num_row()\n",
    "print dtrain.num_col()"
   ]
  },
  {
   "cell_type": "code",
   "execution_count": 34,
   "metadata": {
    "collapsed": false
   },
   "outputs": [
    {
     "name": "stdout",
     "output_type": "stream",
     "text": [
      "69711\n",
      "251\n"
     ]
    }
   ],
   "source": [
    "dtrain2 = xgb.DMatrix(train2.values, label=y_train2)\n",
    "print dtrain2.num_row()\n",
    "print dtrain2.num_col()"
   ]
  },
  {
   "cell_type": "code",
   "execution_count": 35,
   "metadata": {
    "collapsed": false
   },
   "outputs": [
    {
     "name": "stdout",
     "output_type": "stream",
     "text": [
      "5567\n",
      "251\n"
     ]
    }
   ],
   "source": [
    "dval = xgb.DMatrix(validation.values, label=y_validation)\n",
    "print dval.num_row()\n",
    "print dval.num_col()"
   ]
  },
  {
   "cell_type": "code",
   "execution_count": 36,
   "metadata": {
    "collapsed": false
   },
   "outputs": [
    {
     "name": "stdout",
     "output_type": "stream",
     "text": [
      "35249\n",
      "251\n"
     ]
    }
   ],
   "source": [
    "dtest = xgb.DMatrix(test.values)\n",
    "print dtest.num_row()\n",
    "print dtest.num_col()"
   ]
  },
  {
   "cell_type": "code",
   "execution_count": 37,
   "metadata": {
    "collapsed": true
   },
   "outputs": [],
   "source": [
    "# XGB Params\n",
    "param = {'max_depth':6, \n",
    "         'eta':0.01,\n",
    "         'subsample':0.9,\n",
    "         'colsample_bytree':0.3,\n",
    "         #'min_child_weight':0,\n",
    "         'gamma':0.05,\n",
    "         'eval_metric':'auc',\n",
    "         'objective':'binary:logistic',\n",
    "         'booster':'gbtree',\n",
    "         'seed':1729,\n",
    "         #'nthread':7,\n",
    "         'silent':1}"
   ]
  },
  {
   "cell_type": "code",
   "execution_count": 38,
   "metadata": {
    "collapsed": true
   },
   "outputs": [],
   "source": [
    "watchlist2 = [(dval,'validation')]\n",
    "num_train_round = 2000\n",
    "early_stopping_rounds = 200"
   ]
  },
  {
   "cell_type": "markdown",
   "metadata": {},
   "source": [
    "** Validation **"
   ]
  },
  {
   "cell_type": "code",
   "execution_count": null,
   "metadata": {
    "collapsed": true
   },
   "outputs": [],
   "source": [
    "def time_elapsed(t0):\n",
    "    return (time.time()-t0)/60"
   ]
  },
  {
   "cell_type": "code",
   "execution_count": 39,
   "metadata": {
    "collapsed": false
   },
   "outputs": [
    {
     "name": "stdout",
     "output_type": "stream",
     "text": [
      "2000\n",
      "[0]\tvalidation-auc:0.502775\n",
      "Will train until validation-auc hasn't improved in 200 rounds.\n",
      "[50]\tvalidation-auc:0.901708\n",
      "[100]\tvalidation-auc:0.90642\n",
      "[150]\tvalidation-auc:0.90654\n",
      "[200]\tvalidation-auc:0.906057\n",
      "[250]\tvalidation-auc:0.905445\n",
      "[300]\tvalidation-auc:0.903955\n",
      "Stopping. Best iteration:\n",
      "[148]\tvalidation-auc:0.906782\n",
      "\n"
     ]
    },
    {
     "ename": "NameError",
     "evalue": "name 'time_elapsed' is not defined",
     "output_type": "error",
     "traceback": [
      "\u001b[1;31m\u001b[0m",
      "\u001b[1;31mNameError\u001b[0mTraceback (most recent call last)",
      "\u001b[1;32m<ipython-input-39-549b77f6f02c>\u001b[0m in \u001b[0;36m<module>\u001b[1;34m()\u001b[0m\n\u001b[0;32m      8\u001b[0m                      \u001b[0mmaximize\u001b[0m\u001b[1;33m=\u001b[0m\u001b[0mTrue\u001b[0m\u001b[1;33m,\u001b[0m\u001b[1;33m\u001b[0m\u001b[0m\n\u001b[0;32m      9\u001b[0m                      verbose_eval=50)\n\u001b[1;32m---> 10\u001b[1;33m \u001b[1;32mprint\u001b[0m \u001b[0mtime_elapsed\u001b[0m\u001b[1;33m(\u001b[0m\u001b[0mt0\u001b[0m\u001b[1;33m)\u001b[0m\u001b[1;33m,\u001b[0m \u001b[1;34m\"minutes elapsed!\"\u001b[0m\u001b[1;33m\u001b[0m\u001b[0m\n\u001b[0m",
      "\u001b[1;31mNameError\u001b[0m: name 'time_elapsed' is not defined"
     ]
    }
   ],
   "source": [
    "t0 = time.time()\n",
    "print num_train_round\n",
    "xgbModel2 = xgb.train(param, \n",
    "                     dtrain2, \n",
    "                     num_boost_round=num_train_round,\n",
    "                     early_stopping_rounds=early_stopping_rounds,\n",
    "                     evals=watchlist2, \n",
    "                     maximize=True, \n",
    "                     verbose_eval=50)\n",
    "print time_elapsed(t0), \"minutes elapsed!\""
   ]
  },
  {
   "cell_type": "markdown",
   "metadata": {},
   "source": [
    "** Feature Importance **"
   ]
  },
  {
   "cell_type": "code",
   "execution_count": 40,
   "metadata": {
    "collapsed": true
   },
   "outputs": [],
   "source": [
    "def importance_XGB(xgbModel, cols_list):\n",
    "    impdf = []\n",
    "    for ft, score in xgbModel.get_fscore().iteritems():\n",
    "        impdf.append({'feature': ft, 'feature_name': cols_list[int(ft[1:])], 'importance': score})\n",
    "    impdf = pd.DataFrame(impdf)\n",
    "    impdf = impdf.sort_values(by='importance', ascending=False).reset_index(drop=True)\n",
    "    impdf['importance'] /= impdf['importance'].sum()\n",
    "    return impdf"
   ]
  },
  {
   "cell_type": "code",
   "execution_count": 42,
   "metadata": {
    "collapsed": false,
    "scrolled": true
   },
   "outputs": [
    {
     "data": {
      "text/html": [
       "<div>\n",
       "<table border=\"1\" class=\"dataframe\">\n",
       "  <thead>\n",
       "    <tr style=\"text-align: right;\">\n",
       "      <th></th>\n",
       "      <th>feature</th>\n",
       "      <th>feature_name</th>\n",
       "      <th>importance</th>\n",
       "    </tr>\n",
       "  </thead>\n",
       "  <tbody>\n",
       "    <tr>\n",
       "      <th>0</th>\n",
       "      <td>f12</td>\n",
       "      <td>mean_outcome_pwise</td>\n",
       "      <td>0.082083</td>\n",
       "    </tr>\n",
       "    <tr>\n",
       "      <th>1</th>\n",
       "      <td>f11</td>\n",
       "      <td>Age</td>\n",
       "      <td>0.033402</td>\n",
       "    </tr>\n",
       "    <tr>\n",
       "      <th>2</th>\n",
       "      <td>f10</td>\n",
       "      <td>Education_Score</td>\n",
       "      <td>0.030781</td>\n",
       "    </tr>\n",
       "    <tr>\n",
       "      <th>3</th>\n",
       "      <td>f9</td>\n",
       "      <td>Income</td>\n",
       "      <td>0.027380</td>\n",
       "    </tr>\n",
       "    <tr>\n",
       "      <th>4</th>\n",
       "      <td>f0</td>\n",
       "      <td>Var1</td>\n",
       "      <td>0.025149</td>\n",
       "    </tr>\n",
       "    <tr>\n",
       "      <th>5</th>\n",
       "      <td>f4</td>\n",
       "      <td>Var5</td>\n",
       "      <td>0.016729</td>\n",
       "    </tr>\n",
       "    <tr>\n",
       "      <th>6</th>\n",
       "      <td>f34</td>\n",
       "      <td>City_Type_nan</td>\n",
       "      <td>0.015502</td>\n",
       "    </tr>\n",
       "    <tr>\n",
       "      <th>7</th>\n",
       "      <td>f247</td>\n",
       "      <td>First_Interaction_Year_2005.0</td>\n",
       "      <td>0.015335</td>\n",
       "    </tr>\n",
       "    <tr>\n",
       "      <th>8</th>\n",
       "      <td>f245</td>\n",
       "      <td>First_Interaction_Year_2003.0</td>\n",
       "      <td>0.013104</td>\n",
       "    </tr>\n",
       "    <tr>\n",
       "      <th>9</th>\n",
       "      <td>f13</td>\n",
       "      <td>Category1_First</td>\n",
       "      <td>0.011153</td>\n",
       "    </tr>\n",
       "    <tr>\n",
       "      <th>10</th>\n",
       "      <td>f246</td>\n",
       "      <td>First_Interaction_Year_2004.0</td>\n",
       "      <td>0.010651</td>\n",
       "    </tr>\n",
       "    <tr>\n",
       "      <th>11</th>\n",
       "      <td>f20</td>\n",
       "      <td>Category2_E</td>\n",
       "      <td>0.010483</td>\n",
       "    </tr>\n",
       "    <tr>\n",
       "      <th>12</th>\n",
       "      <td>f88</td>\n",
       "      <td>Reg_Month_5.0</td>\n",
       "      <td>0.009982</td>\n",
       "    </tr>\n",
       "    <tr>\n",
       "      <th>13</th>\n",
       "      <td>f49</td>\n",
       "      <td>Employer_Category_nan</td>\n",
       "      <td>0.009814</td>\n",
       "    </tr>\n",
       "    <tr>\n",
       "      <th>14</th>\n",
       "      <td>f95</td>\n",
       "      <td>Reg_Month_12.0</td>\n",
       "      <td>0.009257</td>\n",
       "    </tr>\n",
       "    <tr>\n",
       "      <th>15</th>\n",
       "      <td>f92</td>\n",
       "      <td>Reg_Month_9.0</td>\n",
       "      <td>0.009257</td>\n",
       "    </tr>\n",
       "    <tr>\n",
       "      <th>16</th>\n",
       "      <td>f185</td>\n",
       "      <td>Camp_End_Month_6.0</td>\n",
       "      <td>0.009034</td>\n",
       "    </tr>\n",
       "    <tr>\n",
       "      <th>17</th>\n",
       "      <td>f15</td>\n",
       "      <td>Category1_Third</td>\n",
       "      <td>0.008811</td>\n",
       "    </tr>\n",
       "    <tr>\n",
       "      <th>18</th>\n",
       "      <td>f1</td>\n",
       "      <td>Var2</td>\n",
       "      <td>0.008532</td>\n",
       "    </tr>\n",
       "    <tr>\n",
       "      <th>19</th>\n",
       "      <td>f93</td>\n",
       "      <td>Reg_Month_10.0</td>\n",
       "      <td>0.008476</td>\n",
       "    </tr>\n",
       "    <tr>\n",
       "      <th>20</th>\n",
       "      <td>f168</td>\n",
       "      <td>Camp_End_Day_18.0</td>\n",
       "      <td>0.008309</td>\n",
       "    </tr>\n",
       "    <tr>\n",
       "      <th>21</th>\n",
       "      <td>f18</td>\n",
       "      <td>Category2_C</td>\n",
       "      <td>0.008253</td>\n",
       "    </tr>\n",
       "    <tr>\n",
       "      <th>22</th>\n",
       "      <td>f100</td>\n",
       "      <td>Reg_Year_2005.0</td>\n",
       "      <td>0.008253</td>\n",
       "    </tr>\n",
       "    <tr>\n",
       "      <th>23</th>\n",
       "      <td>f116</td>\n",
       "      <td>Camp_Start_Day_13.0</td>\n",
       "      <td>0.008086</td>\n",
       "    </tr>\n",
       "    <tr>\n",
       "      <th>24</th>\n",
       "      <td>f91</td>\n",
       "      <td>Reg_Month_8.0</td>\n",
       "      <td>0.007974</td>\n",
       "    </tr>\n",
       "    <tr>\n",
       "      <th>25</th>\n",
       "      <td>f21</td>\n",
       "      <td>Category2_F</td>\n",
       "      <td>0.007807</td>\n",
       "    </tr>\n",
       "    <tr>\n",
       "      <th>26</th>\n",
       "      <td>f235</td>\n",
       "      <td>First_Interaction_Month_5.0</td>\n",
       "      <td>0.007751</td>\n",
       "    </tr>\n",
       "    <tr>\n",
       "      <th>27</th>\n",
       "      <td>f164</td>\n",
       "      <td>Camp_End_Day_14.0</td>\n",
       "      <td>0.007695</td>\n",
       "    </tr>\n",
       "    <tr>\n",
       "      <th>28</th>\n",
       "      <td>f94</td>\n",
       "      <td>Reg_Month_11.0</td>\n",
       "      <td>0.007584</td>\n",
       "    </tr>\n",
       "    <tr>\n",
       "      <th>29</th>\n",
       "      <td>f238</td>\n",
       "      <td>First_Interaction_Month_8.0</td>\n",
       "      <td>0.007584</td>\n",
       "    </tr>\n",
       "    <tr>\n",
       "      <th>...</th>\n",
       "      <td>...</td>\n",
       "      <td>...</td>\n",
       "      <td>...</td>\n",
       "    </tr>\n",
       "    <tr>\n",
       "      <th>191</th>\n",
       "      <td>f78</td>\n",
       "      <td>Reg_Day_28.0</td>\n",
       "      <td>0.001059</td>\n",
       "    </tr>\n",
       "    <tr>\n",
       "      <th>192</th>\n",
       "      <td>f226</td>\n",
       "      <td>First_Interaction_Day_28.0</td>\n",
       "      <td>0.001004</td>\n",
       "    </tr>\n",
       "    <tr>\n",
       "      <th>193</th>\n",
       "      <td>f191</td>\n",
       "      <td>Camp_End_Month_12.0</td>\n",
       "      <td>0.000948</td>\n",
       "    </tr>\n",
       "    <tr>\n",
       "      <th>194</th>\n",
       "      <td>f63</td>\n",
       "      <td>Reg_Day_13.0</td>\n",
       "      <td>0.000948</td>\n",
       "    </tr>\n",
       "    <tr>\n",
       "      <th>195</th>\n",
       "      <td>f196</td>\n",
       "      <td>Camp_End_Year_2006.0</td>\n",
       "      <td>0.000948</td>\n",
       "    </tr>\n",
       "    <tr>\n",
       "      <th>196</th>\n",
       "      <td>f213</td>\n",
       "      <td>First_Interaction_Day_15.0</td>\n",
       "      <td>0.000892</td>\n",
       "    </tr>\n",
       "    <tr>\n",
       "      <th>197</th>\n",
       "      <td>f220</td>\n",
       "      <td>First_Interaction_Day_22.0</td>\n",
       "      <td>0.000836</td>\n",
       "    </tr>\n",
       "    <tr>\n",
       "      <th>198</th>\n",
       "      <td>f249</td>\n",
       "      <td>First_Interaction_Year_2007.0</td>\n",
       "      <td>0.000836</td>\n",
       "    </tr>\n",
       "    <tr>\n",
       "      <th>199</th>\n",
       "      <td>f127</td>\n",
       "      <td>Camp_Start_Day_26.0</td>\n",
       "      <td>0.000781</td>\n",
       "    </tr>\n",
       "    <tr>\n",
       "      <th>200</th>\n",
       "      <td>f228</td>\n",
       "      <td>First_Interaction_Day_30.0</td>\n",
       "      <td>0.000781</td>\n",
       "    </tr>\n",
       "    <tr>\n",
       "      <th>201</th>\n",
       "      <td>f105</td>\n",
       "      <td>Camp_Start_Day_2.0</td>\n",
       "      <td>0.000725</td>\n",
       "    </tr>\n",
       "    <tr>\n",
       "      <th>202</th>\n",
       "      <td>f115</td>\n",
       "      <td>Camp_Start_Day_12.0</td>\n",
       "      <td>0.000725</td>\n",
       "    </tr>\n",
       "    <tr>\n",
       "      <th>203</th>\n",
       "      <td>f35</td>\n",
       "      <td>Employer_Category_BFSI</td>\n",
       "      <td>0.000558</td>\n",
       "    </tr>\n",
       "    <tr>\n",
       "      <th>204</th>\n",
       "      <td>f130</td>\n",
       "      <td>Camp_Start_Day_30.0</td>\n",
       "      <td>0.000558</td>\n",
       "    </tr>\n",
       "    <tr>\n",
       "      <th>205</th>\n",
       "      <td>f123</td>\n",
       "      <td>Camp_Start_Day_21.0</td>\n",
       "      <td>0.000558</td>\n",
       "    </tr>\n",
       "    <tr>\n",
       "      <th>206</th>\n",
       "      <td>f171</td>\n",
       "      <td>Camp_End_Day_21.0</td>\n",
       "      <td>0.000558</td>\n",
       "    </tr>\n",
       "    <tr>\n",
       "      <th>207</th>\n",
       "      <td>f221</td>\n",
       "      <td>First_Interaction_Day_23.0</td>\n",
       "      <td>0.000558</td>\n",
       "    </tr>\n",
       "    <tr>\n",
       "      <th>208</th>\n",
       "      <td>f203</td>\n",
       "      <td>First_Interaction_Day_5.0</td>\n",
       "      <td>0.000446</td>\n",
       "    </tr>\n",
       "    <tr>\n",
       "      <th>209</th>\n",
       "      <td>f39</td>\n",
       "      <td>Employer_Category_Food</td>\n",
       "      <td>0.000446</td>\n",
       "    </tr>\n",
       "    <tr>\n",
       "      <th>210</th>\n",
       "      <td>f135</td>\n",
       "      <td>Camp_Start_Month_4.0</td>\n",
       "      <td>0.000446</td>\n",
       "    </tr>\n",
       "    <tr>\n",
       "      <th>211</th>\n",
       "      <td>f41</td>\n",
       "      <td>Employer_Category_Manufacturing</td>\n",
       "      <td>0.000390</td>\n",
       "    </tr>\n",
       "    <tr>\n",
       "      <th>212</th>\n",
       "      <td>f177</td>\n",
       "      <td>Camp_End_Day_28.0</td>\n",
       "      <td>0.000335</td>\n",
       "    </tr>\n",
       "    <tr>\n",
       "      <th>213</th>\n",
       "      <td>f47</td>\n",
       "      <td>Employer_Category_Telecom</td>\n",
       "      <td>0.000335</td>\n",
       "    </tr>\n",
       "    <tr>\n",
       "      <th>214</th>\n",
       "      <td>f48</td>\n",
       "      <td>Employer_Category_Transport</td>\n",
       "      <td>0.000335</td>\n",
       "    </tr>\n",
       "    <tr>\n",
       "      <th>215</th>\n",
       "      <td>f107</td>\n",
       "      <td>Camp_Start_Day_4.0</td>\n",
       "      <td>0.000279</td>\n",
       "    </tr>\n",
       "    <tr>\n",
       "      <th>216</th>\n",
       "      <td>f40</td>\n",
       "      <td>Employer_Category_Health</td>\n",
       "      <td>0.000279</td>\n",
       "    </tr>\n",
       "    <tr>\n",
       "      <th>217</th>\n",
       "      <td>f174</td>\n",
       "      <td>Camp_End_Day_24.0</td>\n",
       "      <td>0.000223</td>\n",
       "    </tr>\n",
       "    <tr>\n",
       "      <th>218</th>\n",
       "      <td>f43</td>\n",
       "      <td>Employer_Category_Real Estate</td>\n",
       "      <td>0.000112</td>\n",
       "    </tr>\n",
       "    <tr>\n",
       "      <th>219</th>\n",
       "      <td>f165</td>\n",
       "      <td>Camp_End_Day_15.0</td>\n",
       "      <td>0.000056</td>\n",
       "    </tr>\n",
       "    <tr>\n",
       "      <th>220</th>\n",
       "      <td>f167</td>\n",
       "      <td>Camp_End_Day_17.0</td>\n",
       "      <td>0.000056</td>\n",
       "    </tr>\n",
       "  </tbody>\n",
       "</table>\n",
       "<p>221 rows × 3 columns</p>\n",
       "</div>"
      ],
      "text/plain": [
       "    feature                     feature_name  importance\n",
       "0       f12               mean_outcome_pwise    0.082083\n",
       "1       f11                              Age    0.033402\n",
       "2       f10                  Education_Score    0.030781\n",
       "3        f9                           Income    0.027380\n",
       "4        f0                             Var1    0.025149\n",
       "5        f4                             Var5    0.016729\n",
       "6       f34                    City_Type_nan    0.015502\n",
       "7      f247    First_Interaction_Year_2005.0    0.015335\n",
       "8      f245    First_Interaction_Year_2003.0    0.013104\n",
       "9       f13                  Category1_First    0.011153\n",
       "10     f246    First_Interaction_Year_2004.0    0.010651\n",
       "11      f20                      Category2_E    0.010483\n",
       "12      f88                    Reg_Month_5.0    0.009982\n",
       "13      f49            Employer_Category_nan    0.009814\n",
       "14      f95                   Reg_Month_12.0    0.009257\n",
       "15      f92                    Reg_Month_9.0    0.009257\n",
       "16     f185               Camp_End_Month_6.0    0.009034\n",
       "17      f15                  Category1_Third    0.008811\n",
       "18       f1                             Var2    0.008532\n",
       "19      f93                   Reg_Month_10.0    0.008476\n",
       "20     f168                Camp_End_Day_18.0    0.008309\n",
       "21      f18                      Category2_C    0.008253\n",
       "22     f100                  Reg_Year_2005.0    0.008253\n",
       "23     f116              Camp_Start_Day_13.0    0.008086\n",
       "24      f91                    Reg_Month_8.0    0.007974\n",
       "25      f21                      Category2_F    0.007807\n",
       "26     f235      First_Interaction_Month_5.0    0.007751\n",
       "27     f164                Camp_End_Day_14.0    0.007695\n",
       "28      f94                   Reg_Month_11.0    0.007584\n",
       "29     f238      First_Interaction_Month_8.0    0.007584\n",
       "..      ...                              ...         ...\n",
       "191     f78                     Reg_Day_28.0    0.001059\n",
       "192    f226       First_Interaction_Day_28.0    0.001004\n",
       "193    f191              Camp_End_Month_12.0    0.000948\n",
       "194     f63                     Reg_Day_13.0    0.000948\n",
       "195    f196             Camp_End_Year_2006.0    0.000948\n",
       "196    f213       First_Interaction_Day_15.0    0.000892\n",
       "197    f220       First_Interaction_Day_22.0    0.000836\n",
       "198    f249    First_Interaction_Year_2007.0    0.000836\n",
       "199    f127              Camp_Start_Day_26.0    0.000781\n",
       "200    f228       First_Interaction_Day_30.0    0.000781\n",
       "201    f105               Camp_Start_Day_2.0    0.000725\n",
       "202    f115              Camp_Start_Day_12.0    0.000725\n",
       "203     f35           Employer_Category_BFSI    0.000558\n",
       "204    f130              Camp_Start_Day_30.0    0.000558\n",
       "205    f123              Camp_Start_Day_21.0    0.000558\n",
       "206    f171                Camp_End_Day_21.0    0.000558\n",
       "207    f221       First_Interaction_Day_23.0    0.000558\n",
       "208    f203        First_Interaction_Day_5.0    0.000446\n",
       "209     f39           Employer_Category_Food    0.000446\n",
       "210    f135             Camp_Start_Month_4.0    0.000446\n",
       "211     f41  Employer_Category_Manufacturing    0.000390\n",
       "212    f177                Camp_End_Day_28.0    0.000335\n",
       "213     f47        Employer_Category_Telecom    0.000335\n",
       "214     f48      Employer_Category_Transport    0.000335\n",
       "215    f107               Camp_Start_Day_4.0    0.000279\n",
       "216     f40         Employer_Category_Health    0.000279\n",
       "217    f174                Camp_End_Day_24.0    0.000223\n",
       "218     f43    Employer_Category_Real Estate    0.000112\n",
       "219    f165                Camp_End_Day_15.0    0.000056\n",
       "220    f167                Camp_End_Day_17.0    0.000056\n",
       "\n",
       "[221 rows x 3 columns]"
      ]
     },
     "execution_count": 42,
     "metadata": {},
     "output_type": "execute_result"
    }
   ],
   "source": [
    "impdf = importance_XGB(xgbModel2, train.columns)\n",
    "impdf"
   ]
  },
  {
   "cell_type": "markdown",
   "metadata": {},
   "source": [
    "** Training on full train data **"
   ]
  },
  {
   "cell_type": "code",
   "execution_count": 43,
   "metadata": {
    "collapsed": false
   },
   "outputs": [
    {
     "name": "stdout",
     "output_type": "stream",
     "text": [
      "[0]\ttrain-auc:0.945226\n",
      "[15]\ttrain-auc:0.91683\n",
      "[30]\ttrain-auc:0.929288\n",
      "[45]\ttrain-auc:0.930544\n"
     ]
    },
    {
     "ename": "NameError",
     "evalue": "name 'time_elapsed' is not defined",
     "output_type": "error",
     "traceback": [
      "\u001b[1;31m\u001b[0m",
      "\u001b[1;31mNameError\u001b[0mTraceback (most recent call last)",
      "\u001b[1;32m<ipython-input-43-2f9415323aa2>\u001b[0m in \u001b[0;36m<module>\u001b[1;34m()\u001b[0m\n\u001b[0;32m      8\u001b[0m                      \u001b[0mmaximize\u001b[0m\u001b[1;33m=\u001b[0m\u001b[0mTrue\u001b[0m\u001b[1;33m,\u001b[0m\u001b[1;33m\u001b[0m\u001b[0m\n\u001b[0;32m      9\u001b[0m                      verbose_eval=15)\n\u001b[1;32m---> 10\u001b[1;33m \u001b[1;32mprint\u001b[0m \u001b[0mtime_elapsed\u001b[0m\u001b[1;33m(\u001b[0m\u001b[0mt0\u001b[0m\u001b[1;33m)\u001b[0m\u001b[1;33m,\u001b[0m \u001b[1;34m\"minutes elapsed!\"\u001b[0m\u001b[1;33m\u001b[0m\u001b[0m\n\u001b[0m",
      "\u001b[1;31mNameError\u001b[0m: name 'time_elapsed' is not defined"
     ]
    }
   ],
   "source": [
    "t0 = time.time()\n",
    "num_train_round = 50\n",
    "watchlist = [(dtrain,'train')]\n",
    "xgbModel = xgb.train(param, \n",
    "                     dtrain, \n",
    "                     num_boost_round=num_train_round,\n",
    "                     evals=watchlist, \n",
    "                     maximize=True, \n",
    "                     verbose_eval=15)\n",
    "print time_elapsed(t0), \"minutes elapsed!\""
   ]
  },
  {
   "cell_type": "markdown",
   "metadata": {},
   "source": [
    "** Prediction **"
   ]
  },
  {
   "cell_type": "code",
   "execution_count": 44,
   "metadata": {
    "collapsed": false
   },
   "outputs": [
    {
     "data": {
      "text/plain": [
       "array([ 0.55640322,  0.50901914,  0.36122817, ...,  0.41586927,\n",
       "        0.39609927,  0.54184848], dtype=float32)"
      ]
     },
     "execution_count": 44,
     "metadata": {},
     "output_type": "execute_result"
    }
   ],
   "source": [
    "pred = xgbModel.predict(dtest)\n",
    "pred"
   ]
  },
  {
   "cell_type": "code",
   "execution_count": 45,
   "metadata": {
    "collapsed": false
   },
   "outputs": [
    {
     "name": "stdout",
     "output_type": "stream",
     "text": [
      "(35249, 3)\n"
     ]
    },
    {
     "data": {
      "text/html": [
       "<div>\n",
       "<table border=\"1\" class=\"dataframe\">\n",
       "  <thead>\n",
       "    <tr style=\"text-align: right;\">\n",
       "      <th></th>\n",
       "      <th>Patient_ID</th>\n",
       "      <th>Health_Camp_ID</th>\n",
       "      <th>Outcome</th>\n",
       "    </tr>\n",
       "  </thead>\n",
       "  <tbody>\n",
       "    <tr>\n",
       "      <th>0</th>\n",
       "      <td>505701</td>\n",
       "      <td>6548</td>\n",
       "      <td>0.556403</td>\n",
       "    </tr>\n",
       "    <tr>\n",
       "      <th>1</th>\n",
       "      <td>500633</td>\n",
       "      <td>6584</td>\n",
       "      <td>0.509019</td>\n",
       "    </tr>\n",
       "    <tr>\n",
       "      <th>2</th>\n",
       "      <td>506945</td>\n",
       "      <td>6582</td>\n",
       "      <td>0.361228</td>\n",
       "    </tr>\n",
       "  </tbody>\n",
       "</table>\n",
       "</div>"
      ],
      "text/plain": [
       "   Patient_ID  Health_Camp_ID   Outcome\n",
       "0      505701            6548  0.556403\n",
       "1      500633            6584  0.509019\n",
       "2      506945            6582  0.361228"
      ]
     },
     "execution_count": 45,
     "metadata": {},
     "output_type": "execute_result"
    }
   ],
   "source": [
    "sub_df['Outcome'] = pred\n",
    "print sub_df.shape\n",
    "sub_df.head(3)"
   ]
  },
  {
   "cell_type": "code",
   "execution_count": 46,
   "metadata": {
    "collapsed": false
   },
   "outputs": [],
   "source": [
    "# Write csv pred file\n",
    "sub_df.to_csv('D:\\\\Data Science\\\\AV\\\\Knocktober\\\\submissions\\\\sub_meanoutcome_pwise.csv', index=False)"
   ]
  }
 ],
 "metadata": {
  "kernelspec": {
   "display_name": "Python [Root]",
   "language": "python",
   "name": "Python [Root]"
  },
  "language_info": {
   "codemirror_mode": {
    "name": "ipython",
    "version": 2
   },
   "file_extension": ".py",
   "mimetype": "text/x-python",
   "name": "python",
   "nbconvert_exporter": "python",
   "pygments_lexer": "ipython2",
   "version": "2.7.11"
  }
 },
 "nbformat": 4,
 "nbformat_minor": 0
}
